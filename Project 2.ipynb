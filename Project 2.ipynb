{
 "cells": [
  {
   "cell_type": "markdown",
   "metadata": {},
   "source": [
    "# Import Libraries"
   ]
  },
  {
   "cell_type": "code",
   "execution_count": 158,
   "metadata": {},
   "outputs": [],
   "source": [
    "# Import the data\n",
    "import pandas as pd\n",
    "import numpy as np\n",
    "from sklearn.model_selection import train_test_split\n",
    "from sklearn.metrics import balanced_accuracy_score\n",
    "from sklearn.preprocessing import OneHotEncoder, OrdinalEncoder\n",
    "import matplotlib.pyplot as plt\n",
    "from sklearn.model_selection import train_test_split\n",
    "from sklearn.metrics import classification_report\n",
    "from sklearn.preprocessing import StandardScaler\n",
    "from sklearn.preprocessing import LabelEncoder\n",
    "from sklearn.ensemble import RandomForestClassifier\n",
    "from sklearn.compose import ColumnTransformer\n",
    "from sklearn.linear_model import LinearRegression\n",
    "from sklearn.metrics import mean_absolute_error, mean_squared_error, r2_score\n",
    "from sklearn.model_selection import cross_val_score\n",
    "from sklearn.ensemble import RandomForestClassifier"
   ]
  },
  {
   "cell_type": "markdown",
   "metadata": {},
   "source": [
    "# Load Dataset\n",
    "This dataset features real estate listings across the United States, categorized by state and zip code. The original dataset, sourced from Kaggle, contained 2.2 million entries. We narrowed down the data by focusing exclusively on properties in Texas, resulting in a reduced dataset with 12 columns and 40,111 rows.\n"
   ]
  },
  {
   "cell_type": "code",
   "execution_count": 88,
   "metadata": {},
   "outputs": [],
   "source": [
    "# Load the dataset into a pandas DataFrame\n",
    "\n",
    "Real_Estate_data_df = pd.read_csv('USA Real Estate Dataset new.csv')\n"
   ]
  },
  {
   "cell_type": "code",
   "execution_count": 89,
   "metadata": {},
   "outputs": [
    {
     "data": {
      "text/html": [
       "<div>\n",
       "<style scoped>\n",
       "    .dataframe tbody tr th:only-of-type {\n",
       "        vertical-align: middle;\n",
       "    }\n",
       "\n",
       "    .dataframe tbody tr th {\n",
       "        vertical-align: top;\n",
       "    }\n",
       "\n",
       "    .dataframe thead th {\n",
       "        text-align: right;\n",
       "    }\n",
       "</style>\n",
       "<table border=\"1\" class=\"dataframe\">\n",
       "  <thead>\n",
       "    <tr style=\"text-align: right;\">\n",
       "      <th></th>\n",
       "      <th>brokered_by</th>\n",
       "      <th>status</th>\n",
       "      <th>price</th>\n",
       "      <th>bed</th>\n",
       "      <th>bath</th>\n",
       "      <th>acre_lot</th>\n",
       "      <th>street</th>\n",
       "      <th>city</th>\n",
       "      <th>state</th>\n",
       "      <th>zip_code</th>\n",
       "      <th>house_size</th>\n",
       "      <th>prev_sold_date</th>\n",
       "    </tr>\n",
       "  </thead>\n",
       "  <tbody>\n",
       "    <tr>\n",
       "      <th>0</th>\n",
       "      <td>33968.0</td>\n",
       "      <td>for_sale</td>\n",
       "      <td>99000.0</td>\n",
       "      <td>1.0</td>\n",
       "      <td>1.0</td>\n",
       "      <td>5.0</td>\n",
       "      <td>49388.0</td>\n",
       "      <td>Terlingua</td>\n",
       "      <td>Texas</td>\n",
       "      <td>79852</td>\n",
       "      <td>600.0</td>\n",
       "      <td>NaN</td>\n",
       "    </tr>\n",
       "    <tr>\n",
       "      <th>1</th>\n",
       "      <td>88188.0</td>\n",
       "      <td>for_sale</td>\n",
       "      <td>58800.0</td>\n",
       "      <td>NaN</td>\n",
       "      <td>NaN</td>\n",
       "      <td>1.0</td>\n",
       "      <td>841041.0</td>\n",
       "      <td>Orange</td>\n",
       "      <td>Texas</td>\n",
       "      <td>77632</td>\n",
       "      <td>NaN</td>\n",
       "      <td>NaN</td>\n",
       "    </tr>\n",
       "    <tr>\n",
       "      <th>2</th>\n",
       "      <td>88188.0</td>\n",
       "      <td>for_sale</td>\n",
       "      <td>58800.0</td>\n",
       "      <td>NaN</td>\n",
       "      <td>NaN</td>\n",
       "      <td>1.0</td>\n",
       "      <td>844563.0</td>\n",
       "      <td>Orange</td>\n",
       "      <td>Texas</td>\n",
       "      <td>77632</td>\n",
       "      <td>NaN</td>\n",
       "      <td>NaN</td>\n",
       "    </tr>\n",
       "    <tr>\n",
       "      <th>3</th>\n",
       "      <td>88188.0</td>\n",
       "      <td>for_sale</td>\n",
       "      <td>58800.0</td>\n",
       "      <td>NaN</td>\n",
       "      <td>NaN</td>\n",
       "      <td>1.0</td>\n",
       "      <td>845421.0</td>\n",
       "      <td>Orange</td>\n",
       "      <td>Texas</td>\n",
       "      <td>77632</td>\n",
       "      <td>NaN</td>\n",
       "      <td>NaN</td>\n",
       "    </tr>\n",
       "    <tr>\n",
       "      <th>4</th>\n",
       "      <td>88188.0</td>\n",
       "      <td>for_sale</td>\n",
       "      <td>58800.0</td>\n",
       "      <td>NaN</td>\n",
       "      <td>NaN</td>\n",
       "      <td>1.0</td>\n",
       "      <td>859147.0</td>\n",
       "      <td>Orange</td>\n",
       "      <td>Texas</td>\n",
       "      <td>77632</td>\n",
       "      <td>NaN</td>\n",
       "      <td>NaN</td>\n",
       "    </tr>\n",
       "  </tbody>\n",
       "</table>\n",
       "</div>"
      ],
      "text/plain": [
       "   brokered_by    status    price  bed  bath  acre_lot    street       city  \\\n",
       "0      33968.0  for_sale  99000.0  1.0   1.0       5.0   49388.0  Terlingua   \n",
       "1      88188.0  for_sale  58800.0  NaN   NaN       1.0  841041.0     Orange   \n",
       "2      88188.0  for_sale  58800.0  NaN   NaN       1.0  844563.0     Orange   \n",
       "3      88188.0  for_sale  58800.0  NaN   NaN       1.0  845421.0     Orange   \n",
       "4      88188.0  for_sale  58800.0  NaN   NaN       1.0  859147.0     Orange   \n",
       "\n",
       "   state  zip_code  house_size prev_sold_date  \n",
       "0  Texas     79852       600.0            NaN  \n",
       "1  Texas     77632         NaN            NaN  \n",
       "2  Texas     77632         NaN            NaN  \n",
       "3  Texas     77632         NaN            NaN  \n",
       "4  Texas     77632         NaN            NaN  "
      ]
     },
     "execution_count": 89,
     "metadata": {},
     "output_type": "execute_result"
    }
   ],
   "source": [
    "Real_Estate_data_df.head()"
   ]
  },
  {
   "cell_type": "markdown",
   "metadata": {},
   "source": [
    "# Data Exploration and Cleaning\n",
    "\n",
    "In the data exploration phase, we thoroughly examined the dataset to understand its structure, variable types, and key statistics. We utilized visualizations like histograms and scatter plots to identify patterns, relationships, and outliers in the data.\n",
    "\n",
    "For data cleaning, we addressed missing values, removed duplicates, and ensured correct data types for each column. We also drop the columns we dont need for data analysis. The cleaned dataset was then validated and prepared for further analysis or modeling."
   ]
  },
  {
   "cell_type": "code",
   "execution_count": 90,
   "metadata": {},
   "outputs": [
    {
     "data": {
      "text/plain": [
       "(40111, 12)"
      ]
     },
     "execution_count": 90,
     "metadata": {},
     "output_type": "execute_result"
    }
   ],
   "source": [
    "Real_Estate_data_df.shape"
   ]
  },
  {
   "cell_type": "code",
   "execution_count": 91,
   "metadata": {},
   "outputs": [
    {
     "name": "stdout",
     "output_type": "stream",
     "text": [
      "<class 'pandas.core.frame.DataFrame'>\n",
      "RangeIndex: 40111 entries, 0 to 40110\n",
      "Data columns (total 12 columns):\n",
      " #   Column          Non-Null Count  Dtype  \n",
      "---  ------          --------------  -----  \n",
      " 0   brokered_by     40093 non-null  float64\n",
      " 1   status          40111 non-null  object \n",
      " 2   price           40053 non-null  float64\n",
      " 3   bed             28761 non-null  float64\n",
      " 4   bath            27158 non-null  float64\n",
      " 5   acre_lot        36224 non-null  float64\n",
      " 6   street          40004 non-null  float64\n",
      " 7   city            40094 non-null  object \n",
      " 8   state           40111 non-null  object \n",
      " 9   zip_code        40111 non-null  int64  \n",
      " 10  house_size      28903 non-null  float64\n",
      " 11  prev_sold_date  15315 non-null  object \n",
      "dtypes: float64(7), int64(1), object(4)\n",
      "memory usage: 3.7+ MB\n",
      "None\n"
     ]
    }
   ],
   "source": [
    "# Display the basic information of the dataframe\n",
    "print(Real_Estate_data_df.info())"
   ]
  },
  {
   "cell_type": "code",
   "execution_count": 92,
   "metadata": {},
   "outputs": [
    {
     "name": "stdout",
     "output_type": "stream",
     "text": [
      "         brokered_by         price           bed          bath      acre_lot  \\\n",
      "count   40093.000000  4.005300e+04  28761.000000  27158.000000  36224.000000   \n",
      "mean    52715.409997  4.856361e+05      3.476931      2.678548     11.630184   \n",
      "std     29786.509676  8.704503e+05      1.337864      1.212267    106.481943   \n",
      "min        51.000000  0.000000e+00      1.000000      1.000000      0.000000   \n",
      "25%     26918.000000  1.800000e+05      3.000000      2.000000      0.170000   \n",
      "50%     52410.000000  3.400000e+05      3.000000      2.000000      0.340000   \n",
      "75%     78031.000000  5.199000e+05      4.000000      3.000000      2.010000   \n",
      "max    110142.000000  3.468000e+07     99.000000     25.000000   7085.560000   \n",
      "\n",
      "             street      zip_code    house_size  \n",
      "count  4.000400e+04  40111.000000  28903.000000  \n",
      "mean   1.060828e+06  75815.313355   2314.157354  \n",
      "std    6.059690e+05    772.033707   1379.643195  \n",
      "min    2.300000e+01  11111.000000    100.000000  \n",
      "25%    5.323715e+05  75206.000000   1590.000000  \n",
      "50%    1.079374e+06  75766.000000   2049.000000  \n",
      "75%    1.602994e+06  76123.000000   2741.000000  \n",
      "max    2.001306e+06  95760.000000  69734.000000  \n"
     ]
    }
   ],
   "source": [
    "# summary statistics\n",
    "print(Real_Estate_data_df.describe())"
   ]
  },
  {
   "cell_type": "code",
   "execution_count": 93,
   "metadata": {},
   "outputs": [
    {
     "data": {
      "text/plain": [
       "brokered_by       float64\n",
       "status             object\n",
       "price             float64\n",
       "bed               float64\n",
       "bath              float64\n",
       "acre_lot          float64\n",
       "street            float64\n",
       "city               object\n",
       "state              object\n",
       "zip_code            int64\n",
       "house_size        float64\n",
       "prev_sold_date     object\n",
       "dtype: object"
      ]
     },
     "execution_count": 93,
     "metadata": {},
     "output_type": "execute_result"
    }
   ],
   "source": [
    "Real_Estate_data_df.dtypes"
   ]
  },
  {
   "cell_type": "code",
   "execution_count": 94,
   "metadata": {},
   "outputs": [
    {
     "name": "stdout",
     "output_type": "stream",
     "text": [
      "status\n",
      "for_sale          38497\n",
      "ready_to_build     1614\n",
      "Name: count, dtype: int64\n"
     ]
    }
   ],
   "source": [
    "# Check the value counts\n",
    "print(Real_Estate_data_df['status'].value_counts())"
   ]
  },
  {
   "cell_type": "code",
   "execution_count": 95,
   "metadata": {},
   "outputs": [
    {
     "name": "stdout",
     "output_type": "stream",
     "text": [
      "brokered_by          18\n",
      "status                0\n",
      "price                58\n",
      "bed               11350\n",
      "bath              12953\n",
      "acre_lot           3887\n",
      "street              107\n",
      "city                 17\n",
      "state                 0\n",
      "zip_code              0\n",
      "house_size        11208\n",
      "prev_sold_date    24796\n",
      "dtype: int64\n"
     ]
    }
   ],
   "source": [
    "# checking for missing values\n",
    "print(Real_Estate_data_df.isnull().sum())"
   ]
  },
  {
   "cell_type": "code",
   "execution_count": 96,
   "metadata": {},
   "outputs": [
    {
     "name": "stdout",
     "output_type": "stream",
     "text": [
      "0\n"
     ]
    }
   ],
   "source": [
    "# Checking for duplicates\n",
    "print(Real_Estate_data_df.duplicated().sum())"
   ]
  },
  {
   "cell_type": "code",
   "execution_count": 97,
   "metadata": {},
   "outputs": [],
   "source": [
    "# Convert prev_sold_date to datetime\n",
    "Real_Estate_data_df['prev_sold_date'] = pd.to_datetime(Real_Estate_data_df['prev_sold_date'])"
   ]
  },
  {
   "cell_type": "code",
   "execution_count": 98,
   "metadata": {},
   "outputs": [
    {
     "data": {
      "text/plain": [
       "(40111, 12)"
      ]
     },
     "execution_count": 98,
     "metadata": {},
     "output_type": "execute_result"
    }
   ],
   "source": [
    "Real_Estate_data_df.shape"
   ]
  },
  {
   "cell_type": "code",
   "execution_count": 99,
   "metadata": {},
   "outputs": [
    {
     "name": "stdout",
     "output_type": "stream",
     "text": [
      "       brokered_by    status     price  bed  bath  acre_lot     street  \\\n",
      "0          33968.0  for_sale   99000.0  1.0   1.0      5.00    49388.0   \n",
      "1          88188.0  for_sale   58800.0  NaN   NaN      1.00   841041.0   \n",
      "2          88188.0  for_sale   58800.0  NaN   NaN      1.00   844563.0   \n",
      "3          88188.0  for_sale   58800.0  NaN   NaN      1.00   845421.0   \n",
      "4          88188.0  for_sale   58800.0  NaN   NaN      1.00   859147.0   \n",
      "...            ...       ...       ...  ...   ...       ...        ...   \n",
      "40106      68915.0  for_sale  467847.0  5.0   4.0      0.19   773587.0   \n",
      "40107      68915.0  for_sale  345249.0  5.0   3.0      0.19   772323.0   \n",
      "40108      61150.0  for_sale  325000.0  NaN   NaN      0.68  1024251.0   \n",
      "40109      68915.0  for_sale  456122.0  5.0   4.0      0.19   273557.0   \n",
      "40110      61150.0  for_sale  325000.0  NaN   NaN      0.69  1024490.0   \n",
      "\n",
      "                 city  state  zip_code  house_size prev_sold_date  \n",
      "0           Terlingua  Texas     79852       600.0            NaT  \n",
      "1              Orange  Texas     77632         NaN            NaT  \n",
      "2              Orange  Texas     77632         NaN            NaT  \n",
      "3              Orange  Texas     77632         NaN            NaT  \n",
      "4              Orange  Texas     77632         NaN            NaT  \n",
      "...               ...    ...       ...         ...            ...  \n",
      "40106  Harker Heights  Texas     76548      3499.0            NaT  \n",
      "40107  Harker Heights  Texas     76548      2572.0            NaT  \n",
      "40108  Harker Heights  Texas     76548         NaN            NaT  \n",
      "40109  Harker Heights  Texas     76548      3499.0            NaT  \n",
      "40110  Harker Heights  Texas     76548         NaN            NaT  \n",
      "\n",
      "[26748 rows x 12 columns]\n"
     ]
    }
   ],
   "source": [
    "missing_rows = Real_Estate_data_df[Real_Estate_data_df.isnull().any(axis=1)]\n",
    "print(missing_rows)"
   ]
  },
  {
   "cell_type": "markdown",
   "metadata": {},
   "source": [
    "# Note:\n",
    "After dropping NA's, data reduced to 13363 Rows. Would we want to drop the NA's or we want to fill it in with average (No. of Beds, No. Bath, and House size)"
   ]
  },
  {
   "cell_type": "code",
   "execution_count": 100,
   "metadata": {},
   "outputs": [
    {
     "data": {
      "text/plain": [
       "(13363, 12)"
      ]
     },
     "execution_count": 100,
     "metadata": {},
     "output_type": "execute_result"
    }
   ],
   "source": [
    "# dropping missing values\n",
    "Clean_data_df = Real_Estate_data_df.dropna()\n",
    "Clean_data_df.shape"
   ]
  },
  {
   "cell_type": "code",
   "execution_count": 101,
   "metadata": {},
   "outputs": [
    {
     "name": "stdout",
     "output_type": "stream",
     "text": [
      "brokered_by       0\n",
      "status            0\n",
      "price             0\n",
      "bed               0\n",
      "bath              0\n",
      "acre_lot          0\n",
      "street            0\n",
      "city              0\n",
      "state             0\n",
      "zip_code          0\n",
      "house_size        0\n",
      "prev_sold_date    0\n",
      "dtype: int64\n"
     ]
    }
   ],
   "source": [
    "# Verifying that there no more missing datas\n",
    "print(Clean_data_df.isnull().sum())"
   ]
  },
  {
   "cell_type": "code",
   "execution_count": 102,
   "metadata": {},
   "outputs": [
    {
     "data": {
      "text/plain": [
       "(13363, 12)"
      ]
     },
     "execution_count": 102,
     "metadata": {},
     "output_type": "execute_result"
    }
   ],
   "source": [
    "Clean_data_df.shape"
   ]
  },
  {
   "cell_type": "code",
   "execution_count": 103,
   "metadata": {},
   "outputs": [
    {
     "data": {
      "text/html": [
       "<div>\n",
       "<style scoped>\n",
       "    .dataframe tbody tr th:only-of-type {\n",
       "        vertical-align: middle;\n",
       "    }\n",
       "\n",
       "    .dataframe tbody tr th {\n",
       "        vertical-align: top;\n",
       "    }\n",
       "\n",
       "    .dataframe thead th {\n",
       "        text-align: right;\n",
       "    }\n",
       "</style>\n",
       "<table border=\"1\" class=\"dataframe\">\n",
       "  <thead>\n",
       "    <tr style=\"text-align: right;\">\n",
       "      <th></th>\n",
       "      <th>brokered_by</th>\n",
       "      <th>status</th>\n",
       "      <th>price</th>\n",
       "      <th>bed</th>\n",
       "      <th>bath</th>\n",
       "      <th>acre_lot</th>\n",
       "      <th>street</th>\n",
       "      <th>city</th>\n",
       "      <th>state</th>\n",
       "      <th>zip_code</th>\n",
       "      <th>house_size</th>\n",
       "      <th>prev_sold_date</th>\n",
       "    </tr>\n",
       "  </thead>\n",
       "  <tbody>\n",
       "    <tr>\n",
       "      <th>18</th>\n",
       "      <td>22959.0</td>\n",
       "      <td>for_sale</td>\n",
       "      <td>349000.0</td>\n",
       "      <td>6.0</td>\n",
       "      <td>5.0</td>\n",
       "      <td>4.41</td>\n",
       "      <td>307395.0</td>\n",
       "      <td>Newton</td>\n",
       "      <td>Texas</td>\n",
       "      <td>75966</td>\n",
       "      <td>5888.0</td>\n",
       "      <td>2014-06-17</td>\n",
       "    </tr>\n",
       "    <tr>\n",
       "      <th>19</th>\n",
       "      <td>106174.0</td>\n",
       "      <td>for_sale</td>\n",
       "      <td>249500.0</td>\n",
       "      <td>2.0</td>\n",
       "      <td>2.0</td>\n",
       "      <td>1.19</td>\n",
       "      <td>363547.0</td>\n",
       "      <td>Hemphill</td>\n",
       "      <td>Texas</td>\n",
       "      <td>75948</td>\n",
       "      <td>1872.0</td>\n",
       "      <td>2022-04-28</td>\n",
       "    </tr>\n",
       "    <tr>\n",
       "      <th>23</th>\n",
       "      <td>4317.0</td>\n",
       "      <td>for_sale</td>\n",
       "      <td>479000.0</td>\n",
       "      <td>5.0</td>\n",
       "      <td>4.0</td>\n",
       "      <td>6.28</td>\n",
       "      <td>840246.0</td>\n",
       "      <td>Newton</td>\n",
       "      <td>Texas</td>\n",
       "      <td>75966</td>\n",
       "      <td>4248.0</td>\n",
       "      <td>2022-05-06</td>\n",
       "    </tr>\n",
       "    <tr>\n",
       "      <th>27</th>\n",
       "      <td>100789.0</td>\n",
       "      <td>for_sale</td>\n",
       "      <td>179900.0</td>\n",
       "      <td>3.0</td>\n",
       "      <td>2.0</td>\n",
       "      <td>2.23</td>\n",
       "      <td>439804.0</td>\n",
       "      <td>Burkeville</td>\n",
       "      <td>Texas</td>\n",
       "      <td>75932</td>\n",
       "      <td>1240.0</td>\n",
       "      <td>2022-01-28</td>\n",
       "    </tr>\n",
       "    <tr>\n",
       "      <th>28</th>\n",
       "      <td>30107.0</td>\n",
       "      <td>for_sale</td>\n",
       "      <td>134900.0</td>\n",
       "      <td>4.0</td>\n",
       "      <td>2.0</td>\n",
       "      <td>0.29</td>\n",
       "      <td>1463813.0</td>\n",
       "      <td>Newton</td>\n",
       "      <td>Texas</td>\n",
       "      <td>75966</td>\n",
       "      <td>2010.0</td>\n",
       "      <td>2021-07-29</td>\n",
       "    </tr>\n",
       "  </tbody>\n",
       "</table>\n",
       "</div>"
      ],
      "text/plain": [
       "    brokered_by    status     price  bed  bath  acre_lot     street  \\\n",
       "18      22959.0  for_sale  349000.0  6.0   5.0      4.41   307395.0   \n",
       "19     106174.0  for_sale  249500.0  2.0   2.0      1.19   363547.0   \n",
       "23       4317.0  for_sale  479000.0  5.0   4.0      6.28   840246.0   \n",
       "27     100789.0  for_sale  179900.0  3.0   2.0      2.23   439804.0   \n",
       "28      30107.0  for_sale  134900.0  4.0   2.0      0.29  1463813.0   \n",
       "\n",
       "          city  state  zip_code  house_size prev_sold_date  \n",
       "18      Newton  Texas     75966      5888.0     2014-06-17  \n",
       "19    Hemphill  Texas     75948      1872.0     2022-04-28  \n",
       "23      Newton  Texas     75966      4248.0     2022-05-06  \n",
       "27  Burkeville  Texas     75932      1240.0     2022-01-28  \n",
       "28      Newton  Texas     75966      2010.0     2021-07-29  "
      ]
     },
     "execution_count": 103,
     "metadata": {},
     "output_type": "execute_result"
    }
   ],
   "source": [
    "# Verifying changes\n",
    "Clean_data_df.head()"
   ]
  },
  {
   "cell_type": "markdown",
   "metadata": {},
   "source": [
    "# Data Transformation"
   ]
  },
  {
   "cell_type": "markdown",
   "metadata": {},
   "source": [
    "1. Feature Engineering:\n",
    "We create a new features that could capture important relationships: \n",
    "* We calculate the age of the house since it was last sold\n",
    "* Calculate the Price per square foot\n",
    "* Calculate the average house value per zip code\n",
    "* Convert categorical variables: Convert city, state, and zip_code into numerical values using label encoding.\n"
   ]
  },
  {
   "cell_type": "code",
   "execution_count": 104,
   "metadata": {},
   "outputs": [
    {
     "data": {
      "text/html": [
       "<div>\n",
       "<style scoped>\n",
       "    .dataframe tbody tr th:only-of-type {\n",
       "        vertical-align: middle;\n",
       "    }\n",
       "\n",
       "    .dataframe tbody tr th {\n",
       "        vertical-align: top;\n",
       "    }\n",
       "\n",
       "    .dataframe thead th {\n",
       "        text-align: right;\n",
       "    }\n",
       "</style>\n",
       "<table border=\"1\" class=\"dataframe\">\n",
       "  <thead>\n",
       "    <tr style=\"text-align: right;\">\n",
       "      <th></th>\n",
       "      <th>price</th>\n",
       "      <th>bed</th>\n",
       "      <th>bath</th>\n",
       "      <th>acre_lot</th>\n",
       "      <th>city</th>\n",
       "      <th>state</th>\n",
       "      <th>zip_code</th>\n",
       "      <th>house_size</th>\n",
       "      <th>prev_sold_date</th>\n",
       "      <th>house_age_since_sold</th>\n",
       "      <th>price_per_sqft</th>\n",
       "      <th>average_house_value_per_zipcode</th>\n",
       "    </tr>\n",
       "  </thead>\n",
       "  <tbody>\n",
       "    <tr>\n",
       "      <th>0</th>\n",
       "      <td>349000</td>\n",
       "      <td>6.0</td>\n",
       "      <td>5.0</td>\n",
       "      <td>4.41</td>\n",
       "      <td>Newton</td>\n",
       "      <td>Texas</td>\n",
       "      <td>75966</td>\n",
       "      <td>5888.0</td>\n",
       "      <td>2014-06-17</td>\n",
       "      <td>3727</td>\n",
       "      <td>000059</td>\n",
       "      <td>237580</td>\n",
       "    </tr>\n",
       "    <tr>\n",
       "      <th>1</th>\n",
       "      <td>249500</td>\n",
       "      <td>2.0</td>\n",
       "      <td>2.0</td>\n",
       "      <td>1.19</td>\n",
       "      <td>Hemphill</td>\n",
       "      <td>Texas</td>\n",
       "      <td>75948</td>\n",
       "      <td>1872.0</td>\n",
       "      <td>2022-04-28</td>\n",
       "      <td>855</td>\n",
       "      <td>000133</td>\n",
       "      <td>280742</td>\n",
       "    </tr>\n",
       "    <tr>\n",
       "      <th>2</th>\n",
       "      <td>479000</td>\n",
       "      <td>5.0</td>\n",
       "      <td>4.0</td>\n",
       "      <td>6.28</td>\n",
       "      <td>Newton</td>\n",
       "      <td>Texas</td>\n",
       "      <td>75966</td>\n",
       "      <td>4248.0</td>\n",
       "      <td>2022-05-06</td>\n",
       "      <td>847</td>\n",
       "      <td>000112</td>\n",
       "      <td>237580</td>\n",
       "    </tr>\n",
       "    <tr>\n",
       "      <th>3</th>\n",
       "      <td>179900</td>\n",
       "      <td>3.0</td>\n",
       "      <td>2.0</td>\n",
       "      <td>2.23</td>\n",
       "      <td>Burkeville</td>\n",
       "      <td>Texas</td>\n",
       "      <td>75932</td>\n",
       "      <td>1240.0</td>\n",
       "      <td>2022-01-28</td>\n",
       "      <td>945</td>\n",
       "      <td>000145</td>\n",
       "      <td>244966</td>\n",
       "    </tr>\n",
       "    <tr>\n",
       "      <th>4</th>\n",
       "      <td>134900</td>\n",
       "      <td>4.0</td>\n",
       "      <td>2.0</td>\n",
       "      <td>0.29</td>\n",
       "      <td>Newton</td>\n",
       "      <td>Texas</td>\n",
       "      <td>75966</td>\n",
       "      <td>2010.0</td>\n",
       "      <td>2021-07-29</td>\n",
       "      <td>1128</td>\n",
       "      <td>000067</td>\n",
       "      <td>237580</td>\n",
       "    </tr>\n",
       "  </tbody>\n",
       "</table>\n",
       "</div>"
      ],
      "text/plain": [
       "    price  bed  bath  acre_lot        city  state  zip_code  house_size  \\\n",
       "0  349000  6.0   5.0      4.41      Newton  Texas     75966      5888.0   \n",
       "1  249500  2.0   2.0      1.19    Hemphill  Texas     75948      1872.0   \n",
       "2  479000  5.0   4.0      6.28      Newton  Texas     75966      4248.0   \n",
       "3  179900  3.0   2.0      2.23  Burkeville  Texas     75932      1240.0   \n",
       "4  134900  4.0   2.0      0.29      Newton  Texas     75966      2010.0   \n",
       "\n",
       "  prev_sold_date  house_age_since_sold price_per_sqft  \\\n",
       "0     2014-06-17                  3727         000059   \n",
       "1     2022-04-28                   855         000133   \n",
       "2     2022-05-06                   847         000112   \n",
       "3     2022-01-28                   945         000145   \n",
       "4     2021-07-29                  1128         000067   \n",
       "\n",
       "  average_house_value_per_zipcode  \n",
       "0                          237580  \n",
       "1                          280742  \n",
       "2                          237580  \n",
       "3                          244966  \n",
       "4                          237580  "
      ]
     },
     "execution_count": 104,
     "metadata": {},
     "output_type": "execute_result"
    }
   ],
   "source": [
    "\n",
    "transform_data_df = Clean_data_df.copy()\n",
    "\n",
    "# Calculate the age of the house since it was last sold\n",
    "transform_data_df['house_age_since_sold'] = (pd.to_datetime('2024-08-30') - transform_data_df['prev_sold_date']).dt.days\n",
    "\n",
    "# Calculate the Price per square foot\n",
    "transform_data_df['price_per_sqft'] = transform_data_df['price'] / transform_data_df['house_size']\n",
    "\n",
    "# Calculate the average house value per zip code\n",
    "average_house_value_per_zipcode = transform_data_df.groupby('zip_code')['price'].mean().reset_index()\n",
    "\n",
    "# Rename the column to be more descriptive\n",
    "average_house_value_per_zipcode.rename(columns={'price': 'average_house_value_per_zipcode'}, inplace=True)\n",
    "\n",
    "# Merge the average house value per zip code back to the original DataFrame\n",
    "transform_data_df = transform_data_df.merge(average_house_value_per_zipcode, on='zip_code', how='left')\n",
    "\n",
    "# Pad prices to 6 digits with leading zeros\n",
    "transform_data_df['average_house_value_per_zipcode'] = transform_data_df['average_house_value_per_zipcode'].apply(lambda x: f\"{int(x):06d}\")\n",
    "transform_data_df['price_per_sqft'] = transform_data_df['price_per_sqft'].apply(lambda x: f\"{int(x):06d}\")\n",
    "transform_data_df['price'] = transform_data_df['price'].apply(lambda x: f\"{int(x):06d}\")\n",
    "\n",
    "# Delete the 'status',column\n",
    "transform_data_df = transform_data_df.drop(columns=['brokered_by','street','status'])\n",
    "\n",
    "transform_data_df.dropna()\n",
    "\n",
    "transform_data_df.head()"
   ]
  },
  {
   "cell_type": "code",
   "execution_count": 105,
   "metadata": {},
   "outputs": [
    {
     "data": {
      "text/plain": [
       "(13363, 12)"
      ]
     },
     "execution_count": 105,
     "metadata": {},
     "output_type": "execute_result"
    }
   ],
   "source": [
    "transform_data_df.shape"
   ]
  },
  {
   "cell_type": "code",
   "execution_count": 106,
   "metadata": {},
   "outputs": [
    {
     "data": {
      "text/plain": [
       "price                                      object\n",
       "bed                                       float64\n",
       "bath                                      float64\n",
       "acre_lot                                  float64\n",
       "city                                       object\n",
       "state                                      object\n",
       "zip_code                                    int64\n",
       "house_size                                float64\n",
       "prev_sold_date                     datetime64[ns]\n",
       "house_age_since_sold                        int64\n",
       "price_per_sqft                             object\n",
       "average_house_value_per_zipcode            object\n",
       "dtype: object"
      ]
     },
     "execution_count": 106,
     "metadata": {},
     "output_type": "execute_result"
    }
   ],
   "source": [
    "transform_data_df.dtypes"
   ]
  },
  {
   "cell_type": "code",
   "execution_count": 107,
   "metadata": {},
   "outputs": [
    {
     "data": {
      "text/html": [
       "<div>\n",
       "<style scoped>\n",
       "    .dataframe tbody tr th:only-of-type {\n",
       "        vertical-align: middle;\n",
       "    }\n",
       "\n",
       "    .dataframe tbody tr th {\n",
       "        vertical-align: top;\n",
       "    }\n",
       "\n",
       "    .dataframe thead th {\n",
       "        text-align: right;\n",
       "    }\n",
       "</style>\n",
       "<table border=\"1\" class=\"dataframe\">\n",
       "  <thead>\n",
       "    <tr style=\"text-align: right;\">\n",
       "      <th></th>\n",
       "      <th>price</th>\n",
       "      <th>bed</th>\n",
       "      <th>bath</th>\n",
       "      <th>acre_lot</th>\n",
       "      <th>city</th>\n",
       "      <th>state</th>\n",
       "      <th>zip_code</th>\n",
       "      <th>house_size</th>\n",
       "      <th>prev_sold_date</th>\n",
       "      <th>house_age_since_sold</th>\n",
       "      <th>price_per_sqft</th>\n",
       "      <th>average_house_value_per_zipcode</th>\n",
       "    </tr>\n",
       "  </thead>\n",
       "  <tbody>\n",
       "    <tr>\n",
       "      <th>0</th>\n",
       "      <td>1028</td>\n",
       "      <td>6.0</td>\n",
       "      <td>5.0</td>\n",
       "      <td>4.41</td>\n",
       "      <td>311</td>\n",
       "      <td>0</td>\n",
       "      <td>326</td>\n",
       "      <td>5888.0</td>\n",
       "      <td>3052</td>\n",
       "      <td>3727</td>\n",
       "      <td>34</td>\n",
       "      <td>118</td>\n",
       "    </tr>\n",
       "    <tr>\n",
       "      <th>1</th>\n",
       "      <td>642</td>\n",
       "      <td>2.0</td>\n",
       "      <td>2.0</td>\n",
       "      <td>1.19</td>\n",
       "      <td>194</td>\n",
       "      <td>0</td>\n",
       "      <td>317</td>\n",
       "      <td>1872.0</td>\n",
       "      <td>4965</td>\n",
       "      <td>855</td>\n",
       "      <td>108</td>\n",
       "      <td>172</td>\n",
       "    </tr>\n",
       "    <tr>\n",
       "      <th>2</th>\n",
       "      <td>1466</td>\n",
       "      <td>5.0</td>\n",
       "      <td>4.0</td>\n",
       "      <td>6.28</td>\n",
       "      <td>311</td>\n",
       "      <td>0</td>\n",
       "      <td>326</td>\n",
       "      <td>4248.0</td>\n",
       "      <td>4972</td>\n",
       "      <td>847</td>\n",
       "      <td>87</td>\n",
       "      <td>118</td>\n",
       "    </tr>\n",
       "    <tr>\n",
       "      <th>3</th>\n",
       "      <td>381</td>\n",
       "      <td>3.0</td>\n",
       "      <td>2.0</td>\n",
       "      <td>2.23</td>\n",
       "      <td>58</td>\n",
       "      <td>0</td>\n",
       "      <td>309</td>\n",
       "      <td>1240.0</td>\n",
       "      <td>4897</td>\n",
       "      <td>945</td>\n",
       "      <td>120</td>\n",
       "      <td>123</td>\n",
       "    </tr>\n",
       "    <tr>\n",
       "      <th>4</th>\n",
       "      <td>201</td>\n",
       "      <td>4.0</td>\n",
       "      <td>2.0</td>\n",
       "      <td>0.29</td>\n",
       "      <td>311</td>\n",
       "      <td>0</td>\n",
       "      <td>326</td>\n",
       "      <td>2010.0</td>\n",
       "      <td>4773</td>\n",
       "      <td>1128</td>\n",
       "      <td>42</td>\n",
       "      <td>118</td>\n",
       "    </tr>\n",
       "  </tbody>\n",
       "</table>\n",
       "</div>"
      ],
      "text/plain": [
       "   price  bed  bath  acre_lot  city  state  zip_code  house_size  \\\n",
       "0   1028  6.0   5.0      4.41   311      0       326      5888.0   \n",
       "1    642  2.0   2.0      1.19   194      0       317      1872.0   \n",
       "2   1466  5.0   4.0      6.28   311      0       326      4248.0   \n",
       "3    381  3.0   2.0      2.23    58      0       309      1240.0   \n",
       "4    201  4.0   2.0      0.29   311      0       326      2010.0   \n",
       "\n",
       "   prev_sold_date  house_age_since_sold  price_per_sqft  \\\n",
       "0            3052                  3727              34   \n",
       "1            4965                   855             108   \n",
       "2            4972                   847              87   \n",
       "3            4897                   945             120   \n",
       "4            4773                  1128              42   \n",
       "\n",
       "   average_house_value_per_zipcode  \n",
       "0                              118  \n",
       "1                              172  \n",
       "2                              118  \n",
       "3                              123  \n",
       "4                              118  "
      ]
     },
     "execution_count": 107,
     "metadata": {},
     "output_type": "execute_result"
    }
   ],
   "source": [
    "# Identify categorical columns\n",
    "categorical_columns = ['price','city', 'state', 'zip_code', 'prev_sold_date','price_per_sqft','average_house_value_per_zipcode']\n",
    "\n",
    "# Initialize LabelEncoder\n",
    "label_encoder = LabelEncoder()\n",
    "\n",
    "# Apply LabelEncoder to each categorical column\n",
    "for column in categorical_columns:\n",
    "    transform_data_df[column] = label_encoder.fit_transform(transform_data_df[column])\n",
    "\n",
    "transform_data_df.head()"
   ]
  },
  {
   "cell_type": "code",
   "execution_count": 108,
   "metadata": {},
   "outputs": [
    {
     "data": {
      "text/plain": [
       "price                                int32\n",
       "bed                                float64\n",
       "bath                               float64\n",
       "acre_lot                           float64\n",
       "city                                 int32\n",
       "state                                int32\n",
       "zip_code                             int64\n",
       "house_size                         float64\n",
       "prev_sold_date                       int64\n",
       "house_age_since_sold                 int64\n",
       "price_per_sqft                       int32\n",
       "average_house_value_per_zipcode      int32\n",
       "dtype: object"
      ]
     },
     "execution_count": 108,
     "metadata": {},
     "output_type": "execute_result"
    }
   ],
   "source": [
    "transform_data_df.dtypes"
   ]
  },
  {
   "cell_type": "markdown",
   "metadata": {},
   "source": [
    "# At this point, each team needs to create one training model and make predictions using a method of their choice."
   ]
  },
  {
   "cell_type": "markdown",
   "metadata": {},
   "source": [
    "# Rebecca"
   ]
  },
  {
   "cell_type": "code",
   "execution_count": 109,
   "metadata": {},
   "outputs": [
    {
     "name": "stdout",
     "output_type": "stream",
     "text": [
      "X_train shape: (9354, 11)\n",
      "X_test shape: (4009, 11)\n",
      "y_train shape: (9354,)\n",
      "y_test shape: (4009,)\n"
     ]
    }
   ],
   "source": [
    "# Set up X and Y variables\n",
    "\n",
    "X = transform_data_df.drop(columns=['price'])  # Features (all columns except 'price')\n",
    "y = transform_data_df['price']  # Target variable (price)\n",
    "\n",
    "# Split the data into training and testing sets with 10% testing data\n",
    "X_train, X_test, y_train, y_test = train_test_split(X, y, test_size=0.30, random_state=42)\n",
    "\n",
    "# Display the shape of the resulting datasets\n",
    "print(\"X_train shape:\", X_train.shape)\n",
    "print(\"X_test shape:\", X_test.shape)\n",
    "print(\"y_train shape:\", y_train.shape)\n",
    "print(\"y_test shape:\", y_test.shape)"
   ]
  },
  {
   "cell_type": "code",
   "execution_count": 110,
   "metadata": {},
   "outputs": [
    {
     "data": {
      "text/plain": [
       "0.0"
      ]
     },
     "execution_count": 110,
     "metadata": {},
     "output_type": "execute_result"
    }
   ],
   "source": [
    "# Find the percentage of null values in each column\n",
    "y_train.isna().sum()/len(X_train)"
   ]
  },
  {
   "cell_type": "code",
   "execution_count": 111,
   "metadata": {},
   "outputs": [
    {
     "data": {
      "text/plain": [
       "bed                                float64\n",
       "bath                               float64\n",
       "acre_lot                           float64\n",
       "city                                 int32\n",
       "state                                int32\n",
       "zip_code                             int64\n",
       "house_size                         float64\n",
       "prev_sold_date                       int64\n",
       "house_age_since_sold                 int64\n",
       "price_per_sqft                       int32\n",
       "average_house_value_per_zipcode      int32\n",
       "dtype: object"
      ]
     },
     "execution_count": 111,
     "metadata": {},
     "output_type": "execute_result"
    }
   ],
   "source": [
    "X_train.dtypes"
   ]
  },
  {
   "cell_type": "code",
   "execution_count": 112,
   "metadata": {},
   "outputs": [
    {
     "name": "stdout",
     "output_type": "stream",
     "text": [
      "bed                                float64\n",
      "bath                               float64\n",
      "acre_lot                           float64\n",
      "city                                 int32\n",
      "state                                int32\n",
      "zip_code                             int64\n",
      "house_size                         float64\n",
      "prev_sold_date                       int64\n",
      "house_age_since_sold                 int64\n",
      "price_per_sqft                       int32\n",
      "average_house_value_per_zipcode      int32\n",
      "dtype: object\n"
     ]
    }
   ],
   "source": [
    "print(X.dtypes)"
   ]
  },
  {
   "cell_type": "markdown",
   "metadata": {},
   "source": []
  },
  {
   "cell_type": "code",
   "execution_count": 140,
   "metadata": {},
   "outputs": [],
   "source": [
    "scaler = StandardScaler()\n",
    "X_train_scaled = scaler.fit_transform(X_train)\n",
    "X_test_scaled = scaler.transform(X_test)"
   ]
  },
  {
   "cell_type": "code",
   "execution_count": 141,
   "metadata": {},
   "outputs": [
    {
     "data": {
      "text/html": [
       "<style>#sk-container-id-10 {color: black;background-color: white;}#sk-container-id-10 pre{padding: 0;}#sk-container-id-10 div.sk-toggleable {background-color: white;}#sk-container-id-10 label.sk-toggleable__label {cursor: pointer;display: block;width: 100%;margin-bottom: 0;padding: 0.3em;box-sizing: border-box;text-align: center;}#sk-container-id-10 label.sk-toggleable__label-arrow:before {content: \"▸\";float: left;margin-right: 0.25em;color: #696969;}#sk-container-id-10 label.sk-toggleable__label-arrow:hover:before {color: black;}#sk-container-id-10 div.sk-estimator:hover label.sk-toggleable__label-arrow:before {color: black;}#sk-container-id-10 div.sk-toggleable__content {max-height: 0;max-width: 0;overflow: hidden;text-align: left;background-color: #f0f8ff;}#sk-container-id-10 div.sk-toggleable__content pre {margin: 0.2em;color: black;border-radius: 0.25em;background-color: #f0f8ff;}#sk-container-id-10 input.sk-toggleable__control:checked~div.sk-toggleable__content {max-height: 200px;max-width: 100%;overflow: auto;}#sk-container-id-10 input.sk-toggleable__control:checked~label.sk-toggleable__label-arrow:before {content: \"▾\";}#sk-container-id-10 div.sk-estimator input.sk-toggleable__control:checked~label.sk-toggleable__label {background-color: #d4ebff;}#sk-container-id-10 div.sk-label input.sk-toggleable__control:checked~label.sk-toggleable__label {background-color: #d4ebff;}#sk-container-id-10 input.sk-hidden--visually {border: 0;clip: rect(1px 1px 1px 1px);clip: rect(1px, 1px, 1px, 1px);height: 1px;margin: -1px;overflow: hidden;padding: 0;position: absolute;width: 1px;}#sk-container-id-10 div.sk-estimator {font-family: monospace;background-color: #f0f8ff;border: 1px dotted black;border-radius: 0.25em;box-sizing: border-box;margin-bottom: 0.5em;}#sk-container-id-10 div.sk-estimator:hover {background-color: #d4ebff;}#sk-container-id-10 div.sk-parallel-item::after {content: \"\";width: 100%;border-bottom: 1px solid gray;flex-grow: 1;}#sk-container-id-10 div.sk-label:hover label.sk-toggleable__label {background-color: #d4ebff;}#sk-container-id-10 div.sk-serial::before {content: \"\";position: absolute;border-left: 1px solid gray;box-sizing: border-box;top: 0;bottom: 0;left: 50%;z-index: 0;}#sk-container-id-10 div.sk-serial {display: flex;flex-direction: column;align-items: center;background-color: white;padding-right: 0.2em;padding-left: 0.2em;position: relative;}#sk-container-id-10 div.sk-item {position: relative;z-index: 1;}#sk-container-id-10 div.sk-parallel {display: flex;align-items: stretch;justify-content: center;background-color: white;position: relative;}#sk-container-id-10 div.sk-item::before, #sk-container-id-10 div.sk-parallel-item::before {content: \"\";position: absolute;border-left: 1px solid gray;box-sizing: border-box;top: 0;bottom: 0;left: 50%;z-index: -1;}#sk-container-id-10 div.sk-parallel-item {display: flex;flex-direction: column;z-index: 1;position: relative;background-color: white;}#sk-container-id-10 div.sk-parallel-item:first-child::after {align-self: flex-end;width: 50%;}#sk-container-id-10 div.sk-parallel-item:last-child::after {align-self: flex-start;width: 50%;}#sk-container-id-10 div.sk-parallel-item:only-child::after {width: 0;}#sk-container-id-10 div.sk-dashed-wrapped {border: 1px dashed gray;margin: 0 0.4em 0.5em 0.4em;box-sizing: border-box;padding-bottom: 0.4em;background-color: white;}#sk-container-id-10 div.sk-label label {font-family: monospace;font-weight: bold;display: inline-block;line-height: 1.2em;}#sk-container-id-10 div.sk-label-container {text-align: center;}#sk-container-id-10 div.sk-container {/* jupyter's `normalize.less` sets `[hidden] { display: none; }` but bootstrap.min.css set `[hidden] { display: none !important; }` so we also need the `!important` here to be able to override the default hidden behavior on the sphinx rendered scikit-learn.org. See: https://github.com/scikit-learn/scikit-learn/issues/21755 */display: inline-block !important;position: relative;}#sk-container-id-10 div.sk-text-repr-fallback {display: none;}</style><div id=\"sk-container-id-10\" class=\"sk-top-container\"><div class=\"sk-text-repr-fallback\"><pre>LinearRegression()</pre><b>In a Jupyter environment, please rerun this cell to show the HTML representation or trust the notebook. <br />On GitHub, the HTML representation is unable to render, please try loading this page with nbviewer.org.</b></div><div class=\"sk-container\" hidden><div class=\"sk-item\"><div class=\"sk-estimator sk-toggleable\"><input class=\"sk-toggleable__control sk-hidden--visually\" id=\"sk-estimator-id-10\" type=\"checkbox\" checked><label for=\"sk-estimator-id-10\" class=\"sk-toggleable__label sk-toggleable__label-arrow\">LinearRegression</label><div class=\"sk-toggleable__content\"><pre>LinearRegression()</pre></div></div></div></div></div>"
      ],
      "text/plain": [
       "LinearRegression()"
      ]
     },
     "execution_count": 141,
     "metadata": {},
     "output_type": "execute_result"
    }
   ],
   "source": [
    "# Instantiate the model\n",
    "model = LinearRegression()\n",
    "\n",
    "# Fit the model to the training data\n",
    "model.fit(X_train, y_train)"
   ]
  },
  {
   "cell_type": "code",
   "execution_count": 142,
   "metadata": {},
   "outputs": [],
   "source": [
    "# Make predictions on the testing set\n",
    "y_pred = model.predict(X_test)"
   ]
  },
  {
   "cell_type": "code",
   "execution_count": 143,
   "metadata": {},
   "outputs": [
    {
     "name": "stdout",
     "output_type": "stream",
     "text": [
      "MAE: 1406.953331610129\n",
      "MSE: 4355347.826678113\n",
      "R-squared: 0.1762154130079251\n"
     ]
    }
   ],
   "source": [
    "# Make predictions on the test data\n",
    "y_pred = model.predict(X_test)\n",
    "\n",
    "# Evaluate the model (compare y_test with y_pred, not y_train)\n",
    "mae = mean_absolute_error(y_test, y_pred)\n",
    "mse = mean_squared_error(y_test, y_pred)\n",
    "r2 = r2_score(y_test, y_pred)\n",
    "\n",
    "print(f\"MAE: {mae}\")\n",
    "print(f\"MSE: {mse}\")\n",
    "print(f\"R-squared: {r2}\")"
   ]
  },
  {
   "cell_type": "code",
   "execution_count": 144,
   "metadata": {},
   "outputs": [
    {
     "data": {
      "image/png": "[encoded data removed]",
      "text/plain": [
       "<Figure size 640x480 with 1 Axes>"
      ]
     },
     "metadata": {},
     "output_type": "display_data"
    }
   ],
   "source": [
    "# Plot predicted vs actual\n",
    "plt.scatter(y_test, y_pred)\n",
    "plt.xlabel(\"Actual Values\")\n",
    "plt.ylabel(\"Predicted Values\")\n",
    "plt.title(\"Actual vs Predicted\")\n",
    "plt.show()"
   ]
  },
  {
   "cell_type": "code",
   "execution_count": 146,
   "metadata": {},
   "outputs": [
    {
     "data": {
      "image/png": "[encoded data removed]",
      "text/plain": [
       "<Figure size 640x480 with 1 Axes>"
      ]
     },
     "metadata": {},
     "output_type": "display_data"
    }
   ],
   "source": [
    "# Plot predicted vs actual\n",
    "plt.scatter(y_test, y_pred, alpha=0.5)\n",
    "plt.plot([y_test.min(), y_test.max()], [y_test.min(), y_test.max()], 'r--', lw=2)\n",
    "plt.xlabel(\"Actual Values\")\n",
    "plt.ylabel(\"Predicted Values\")\n",
    "plt.title(\"Actual vs Predicted\")\n",
    "plt.show()"
   ]
  },
  {
   "cell_type": "markdown",
   "metadata": {},
   "source": [
    "\"This graph shows how well our model’s predictions match the actual values. On the X-axis, we have the actual values, and on the Y-axis, we have the values predicted by our model. The red dashed line represents perfect predictions — if a point falls on this line, it means the model got the prediction exactly right.\n",
    "\n",
    "However, we can see that most points are scattered away from this line, which tells us that the model's predictions aren't very accurate. As the actual values increase, especially above 4000, the model tends to under-predict, as most of the points fall below the red line. There are also some extreme outliers, where the predicted values are way off — either much too high or much too low, showing that the model struggles with certain cases.\n",
    "\n",
    "In summary, while the model does okay with smaller values, it has trouble with larger ones and makes some big errors, meaning we likely need to improve the model's complexity, adjust the features we’re using, or handle outliers better.\""
   ]
  },
  {
   "cell_type": "code",
   "execution_count": 145,
   "metadata": {},
   "outputs": [
    {
     "name": "stdout",
     "output_type": "stream",
     "text": [
      "Cross-Validation Scores: [0.39664575 0.41716231 0.42355187 0.38456038 0.43171505]\n",
      "Mean CV Score: 0.4107270721299872\n"
     ]
    }
   ],
   "source": [
    "# Perform cross-validation\n",
    "cv_scores = cross_val_score(model, X_train, y_train, cv=5)\n",
    "print(f\"Cross-Validation Scores: {cv_scores}\")\n",
    "print(f\"Mean CV Score: {cv_scores.mean()}\")"
   ]
  },
  {
   "cell_type": "markdown",
   "metadata": {},
   "source": [
    "# On this Dataframe I am trying to use imputer to fill Nan fields with average value.\n",
    "\n",
    "The result is Memory error when running the Model."
   ]
  },
  {
   "cell_type": "code",
   "execution_count": 118,
   "metadata": {},
   "outputs": [
    {
     "name": "stdout",
     "output_type": "stream",
     "text": [
      "\n",
      "DataFrame after Mean Imputation:\n",
      "       brokered_by    status     price       bed      bath  acre_lot  \\\n",
      "0          33968.0  for_sale   99000.0  1.000000  1.000000      5.00   \n",
      "1          88188.0  for_sale   58800.0  3.476931  2.678548      1.00   \n",
      "2          88188.0  for_sale   58800.0  3.476931  2.678548      1.00   \n",
      "3          88188.0  for_sale   58800.0  3.476931  2.678548      1.00   \n",
      "4          88188.0  for_sale   58800.0  3.476931  2.678548      1.00   \n",
      "...            ...       ...       ...       ...       ...       ...   \n",
      "40106      68915.0  for_sale  467847.0  5.000000  4.000000      0.19   \n",
      "40107      68915.0  for_sale  345249.0  5.000000  3.000000      0.19   \n",
      "40108      61150.0  for_sale  325000.0  3.476931  2.678548      0.68   \n",
      "40109      68915.0  for_sale  456122.0  5.000000  4.000000      0.19   \n",
      "40110      61150.0  for_sale  325000.0  3.476931  2.678548      0.69   \n",
      "\n",
      "          street            city  state  zip_code   house_size  \\\n",
      "0        49388.0       Terlingua  Texas     79852   600.000000   \n",
      "1       841041.0          Orange  Texas     77632  2314.157354   \n",
      "2       844563.0          Orange  Texas     77632  2314.157354   \n",
      "3       845421.0          Orange  Texas     77632  2314.157354   \n",
      "4       859147.0          Orange  Texas     77632  2314.157354   \n",
      "...          ...             ...    ...       ...          ...   \n",
      "40106   773587.0  Harker Heights  Texas     76548  3499.000000   \n",
      "40107   772323.0  Harker Heights  Texas     76548  2572.000000   \n",
      "40108  1024251.0  Harker Heights  Texas     76548  2314.157354   \n",
      "40109   273557.0  Harker Heights  Texas     76548  3499.000000   \n",
      "40110  1024490.0  Harker Heights  Texas     76548  2314.157354   \n",
      "\n",
      "                     prev_sold_date  \n",
      "0     2014-05-03 11:55:09.461312512  \n",
      "1     2014-05-03 11:55:09.461312512  \n",
      "2     2014-05-03 11:55:09.461312512  \n",
      "3     2014-05-03 11:55:09.461312512  \n",
      "4     2014-05-03 11:55:09.461312512  \n",
      "...                             ...  \n",
      "40106 2014-05-03 11:55:09.461312512  \n",
      "40107 2014-05-03 11:55:09.461312512  \n",
      "40108 2014-05-03 11:55:09.461312512  \n",
      "40109 2014-05-03 11:55:09.461312512  \n",
      "40110 2014-05-03 11:55:09.461312512  \n",
      "\n",
      "[40111 rows x 12 columns]\n"
     ]
    }
   ],
   "source": [
    "# Imputing NAN Fields\n",
    "\n",
    "Real_Estate_data_imputed_df= Real_Estate_data_df.copy()\n",
    "\n",
    "# Mean imputation for the selected columns\n",
    "Real_Estate_data_imputed_df['bed'].fillna(Real_Estate_data_imputed_df['bed'].mean(), inplace=True)\n",
    "Real_Estate_data_imputed_df['bath'].fillna(Real_Estate_data_imputed_df['bath'].mean(), inplace=True)\n",
    "Real_Estate_data_imputed_df['house_size'].fillna(Real_Estate_data_imputed_df['house_size'].mean(), inplace=True)\n",
    "Real_Estate_data_imputed_df['acre_lot'].fillna(Real_Estate_data_imputed_df['acre_lot'].mean(), inplace=True)\n",
    "Real_Estate_data_imputed_df['prev_sold_date'].fillna(Real_Estate_data_imputed_df['prev_sold_date'].mean(), inplace=True)\n",
    "\n",
    "print(\"\\nDataFrame after Mean Imputation:\")\n",
    "print(Real_Estate_data_imputed_df)"
   ]
  },
  {
   "cell_type": "markdown",
   "metadata": {},
   "source": [
    "# Clean Dataset with Bed, Bath, House_size,acre_lot and prev_sold_date imputed with average value. I do this to retain the no. of rows"
   ]
  },
  {
   "cell_type": "code",
   "execution_count": 119,
   "metadata": {},
   "outputs": [
    {
     "data": {
      "text/plain": [
       "(39911, 12)"
      ]
     },
     "execution_count": 119,
     "metadata": {},
     "output_type": "execute_result"
    }
   ],
   "source": [
    "Clean_Real_Estate_data_imputed_df=Real_Estate_data_imputed_df.dropna() \n",
    "\n",
    "Clean_Real_Estate_data_imputed_df.shape"
   ]
  },
  {
   "cell_type": "code",
   "execution_count": 120,
   "metadata": {},
   "outputs": [
    {
     "data": {
      "text/html": [
       "<div>\n",
       "<style scoped>\n",
       "    .dataframe tbody tr th:only-of-type {\n",
       "        vertical-align: middle;\n",
       "    }\n",
       "\n",
       "    .dataframe tbody tr th {\n",
       "        vertical-align: top;\n",
       "    }\n",
       "\n",
       "    .dataframe thead th {\n",
       "        text-align: right;\n",
       "    }\n",
       "</style>\n",
       "<table border=\"1\" class=\"dataframe\">\n",
       "  <thead>\n",
       "    <tr style=\"text-align: right;\">\n",
       "      <th></th>\n",
       "      <th>price</th>\n",
       "      <th>bed</th>\n",
       "      <th>bath</th>\n",
       "      <th>acre_lot</th>\n",
       "      <th>city</th>\n",
       "      <th>state</th>\n",
       "      <th>zip_code</th>\n",
       "      <th>house_size</th>\n",
       "      <th>prev_sold_date</th>\n",
       "      <th>house_age_since_sold</th>\n",
       "      <th>price_per_sqft</th>\n",
       "      <th>average_house_value_per_zipcode</th>\n",
       "    </tr>\n",
       "  </thead>\n",
       "  <tbody>\n",
       "    <tr>\n",
       "      <th>0</th>\n",
       "      <td>693</td>\n",
       "      <td>1.000000</td>\n",
       "      <td>1.000000</td>\n",
       "      <td>5.000000</td>\n",
       "      <td>637</td>\n",
       "      <td>0</td>\n",
       "      <td>753</td>\n",
       "      <td>600.000000</td>\n",
       "      <td>3203</td>\n",
       "      <td>3771</td>\n",
       "      <td>165</td>\n",
       "      <td>126</td>\n",
       "    </tr>\n",
       "    <tr>\n",
       "      <th>1</th>\n",
       "      <td>372</td>\n",
       "      <td>3.476931</td>\n",
       "      <td>2.678548</td>\n",
       "      <td>1.000000</td>\n",
       "      <td>485</td>\n",
       "      <td>0</td>\n",
       "      <td>682</td>\n",
       "      <td>2314.157354</td>\n",
       "      <td>3203</td>\n",
       "      <td>3771</td>\n",
       "      <td>25</td>\n",
       "      <td>153</td>\n",
       "    </tr>\n",
       "    <tr>\n",
       "      <th>2</th>\n",
       "      <td>372</td>\n",
       "      <td>3.476931</td>\n",
       "      <td>2.678548</td>\n",
       "      <td>1.000000</td>\n",
       "      <td>485</td>\n",
       "      <td>0</td>\n",
       "      <td>682</td>\n",
       "      <td>2314.157354</td>\n",
       "      <td>3203</td>\n",
       "      <td>3771</td>\n",
       "      <td>25</td>\n",
       "      <td>153</td>\n",
       "    </tr>\n",
       "    <tr>\n",
       "      <th>3</th>\n",
       "      <td>372</td>\n",
       "      <td>3.476931</td>\n",
       "      <td>2.678548</td>\n",
       "      <td>1.000000</td>\n",
       "      <td>485</td>\n",
       "      <td>0</td>\n",
       "      <td>682</td>\n",
       "      <td>2314.157354</td>\n",
       "      <td>3203</td>\n",
       "      <td>3771</td>\n",
       "      <td>25</td>\n",
       "      <td>153</td>\n",
       "    </tr>\n",
       "    <tr>\n",
       "      <th>4</th>\n",
       "      <td>372</td>\n",
       "      <td>3.476931</td>\n",
       "      <td>2.678548</td>\n",
       "      <td>1.000000</td>\n",
       "      <td>485</td>\n",
       "      <td>0</td>\n",
       "      <td>682</td>\n",
       "      <td>2314.157354</td>\n",
       "      <td>3203</td>\n",
       "      <td>3771</td>\n",
       "      <td>25</td>\n",
       "      <td>153</td>\n",
       "    </tr>\n",
       "    <tr>\n",
       "      <th>5</th>\n",
       "      <td>372</td>\n",
       "      <td>3.476931</td>\n",
       "      <td>2.678548</td>\n",
       "      <td>1.000000</td>\n",
       "      <td>485</td>\n",
       "      <td>0</td>\n",
       "      <td>682</td>\n",
       "      <td>2314.157354</td>\n",
       "      <td>3203</td>\n",
       "      <td>3771</td>\n",
       "      <td>25</td>\n",
       "      <td>153</td>\n",
       "    </tr>\n",
       "    <tr>\n",
       "      <th>6</th>\n",
       "      <td>372</td>\n",
       "      <td>3.476931</td>\n",
       "      <td>2.678548</td>\n",
       "      <td>1.040000</td>\n",
       "      <td>485</td>\n",
       "      <td>0</td>\n",
       "      <td>682</td>\n",
       "      <td>2314.157354</td>\n",
       "      <td>3203</td>\n",
       "      <td>3771</td>\n",
       "      <td>25</td>\n",
       "      <td>153</td>\n",
       "    </tr>\n",
       "    <tr>\n",
       "      <th>7</th>\n",
       "      <td>5385</td>\n",
       "      <td>4.000000</td>\n",
       "      <td>3.000000</td>\n",
       "      <td>11.630184</td>\n",
       "      <td>321</td>\n",
       "      <td>0</td>\n",
       "      <td>674</td>\n",
       "      <td>2300.000000</td>\n",
       "      <td>3203</td>\n",
       "      <td>3771</td>\n",
       "      <td>207</td>\n",
       "      <td>546</td>\n",
       "    </tr>\n",
       "    <tr>\n",
       "      <th>8</th>\n",
       "      <td>341</td>\n",
       "      <td>3.476931</td>\n",
       "      <td>2.678548</td>\n",
       "      <td>1.700000</td>\n",
       "      <td>101</td>\n",
       "      <td>0</td>\n",
       "      <td>719</td>\n",
       "      <td>2314.157354</td>\n",
       "      <td>3203</td>\n",
       "      <td>3771</td>\n",
       "      <td>23</td>\n",
       "      <td>8</td>\n",
       "    </tr>\n",
       "    <tr>\n",
       "      <th>9</th>\n",
       "      <td>1994</td>\n",
       "      <td>4.000000</td>\n",
       "      <td>2.000000</td>\n",
       "      <td>1.070000</td>\n",
       "      <td>616</td>\n",
       "      <td>0</td>\n",
       "      <td>752</td>\n",
       "      <td>1460.000000</td>\n",
       "      <td>3203</td>\n",
       "      <td>3771</td>\n",
       "      <td>142</td>\n",
       "      <td>144</td>\n",
       "    </tr>\n",
       "  </tbody>\n",
       "</table>\n",
       "</div>"
      ],
      "text/plain": [
       "   price       bed      bath   acre_lot  city  state  zip_code   house_size  \\\n",
       "0    693  1.000000  1.000000   5.000000   637      0       753   600.000000   \n",
       "1    372  3.476931  2.678548   1.000000   485      0       682  2314.157354   \n",
       "2    372  3.476931  2.678548   1.000000   485      0       682  2314.157354   \n",
       "3    372  3.476931  2.678548   1.000000   485      0       682  2314.157354   \n",
       "4    372  3.476931  2.678548   1.000000   485      0       682  2314.157354   \n",
       "5    372  3.476931  2.678548   1.000000   485      0       682  2314.157354   \n",
       "6    372  3.476931  2.678548   1.040000   485      0       682  2314.157354   \n",
       "7   5385  4.000000  3.000000  11.630184   321      0       674  2300.000000   \n",
       "8    341  3.476931  2.678548   1.700000   101      0       719  2314.157354   \n",
       "9   1994  4.000000  2.000000   1.070000   616      0       752  1460.000000   \n",
       "\n",
       "   prev_sold_date  house_age_since_sold  price_per_sqft  \\\n",
       "0            3203                  3771             165   \n",
       "1            3203                  3771              25   \n",
       "2            3203                  3771              25   \n",
       "3            3203                  3771              25   \n",
       "4            3203                  3771              25   \n",
       "5            3203                  3771              25   \n",
       "6            3203                  3771              25   \n",
       "7            3203                  3771             207   \n",
       "8            3203                  3771              23   \n",
       "9            3203                  3771             142   \n",
       "\n",
       "   average_house_value_per_zipcode  \n",
       "0                              126  \n",
       "1                              153  \n",
       "2                              153  \n",
       "3                              153  \n",
       "4                              153  \n",
       "5                              153  \n",
       "6                              153  \n",
       "7                              546  \n",
       "8                                8  \n",
       "9                              144  "
      ]
     },
     "execution_count": 120,
     "metadata": {},
     "output_type": "execute_result"
    }
   ],
   "source": [
    "transform2_data_df = Clean_Real_Estate_data_imputed_df.copy()\n",
    "\n",
    "# Calculate the age of the house since it was last sold\n",
    "transform2_data_df['house_age_since_sold'] = (pd.to_datetime('2024-08-30') - transform2_data_df['prev_sold_date']).dt.days\n",
    "\n",
    "# Calculate the Price per square foot\n",
    "transform2_data_df['price_per_sqft'] = transform2_data_df['price'] / transform2_data_df['house_size']\n",
    "\n",
    "# Calculate the average house value per zip code\n",
    "average_house_value_per_zipcode = transform2_data_df.groupby('zip_code')['price'].mean().reset_index()\n",
    "\n",
    "# Rename the column to be more descriptive\n",
    "average_house_value_per_zipcode.rename(columns={'price': 'average_house_value_per_zipcode'}, inplace=True)\n",
    "\n",
    "# Merge the average house value per zip code back to the original DataFrame\n",
    "transform2_data_df = transform2_data_df.merge(average_house_value_per_zipcode, on='zip_code', how='left')\n",
    "\n",
    "# Pad prices to 6 digits with leading zeros\n",
    "transform2_data_df['average_house_value_per_zipcode'] = transform2_data_df['average_house_value_per_zipcode'].apply(lambda x: f\"{int(x):06d}\")\n",
    "transform2_data_df['price_per_sqft'] = transform2_data_df['price_per_sqft'].apply(lambda x: f\"{int(x):06d}\")\n",
    "transform2_data_df['price'] = transform2_data_df['price'].apply(lambda x: f\"{int(x):06d}\")\n",
    "\n",
    "# Delete the 'status',column\n",
    "transform2_data_df = transform2_data_df.drop(columns=['brokered_by','street','status'])\n",
    "\n",
    "\n",
    "# Identify categorical columns\n",
    "categorical_columns = ['price','city', 'state', 'zip_code', 'prev_sold_date','price_per_sqft','average_house_value_per_zipcode']\n",
    "\n",
    "# Initialize LabelEncoder\n",
    "label_encoder = LabelEncoder()\n",
    "\n",
    "# Apply LabelEncoder to each categorical column\n",
    "for column in categorical_columns:\n",
    "    transform2_data_df[column] = label_encoder.fit_transform(transform2_data_df[column])\n",
    "\n",
    "transform2_data_df.head()\n",
    "\n",
    "\n",
    "transform2_data_df.head(10)"
   ]
  },
  {
   "cell_type": "markdown",
   "metadata": {},
   "source": [
    "# Splitting the dataset into Training and Testing sets allowing 10% Test size"
   ]
  },
  {
   "cell_type": "code",
   "execution_count": 121,
   "metadata": {},
   "outputs": [
    {
     "name": "stdout",
     "output_type": "stream",
     "text": [
      "X_train shape: (35919, 11)\n",
      "X_test shape: (3992, 11)\n",
      "y_train shape: (35919,)\n",
      "y_test shape: (3992,)\n"
     ]
    }
   ],
   "source": [
    "# Set up X and Y variables\n",
    "\n",
    "X = transform2_data_df.drop(columns=['price'])  # Features (all columns except 'price')\n",
    "y = transform2_data_df['price']  # Target variable (price)\n",
    "\n",
    "# Split the data into training and testing sets with 10% testing data\n",
    "X_train, X_test, y_train, y_test = train_test_split(X, y,test_size=0.10, random_state=42)\n",
    "\n",
    "# Display the shape of the resulting datasets\n",
    "print(\"X_train shape:\", X_train.shape)\n",
    "print(\"X_test shape:\", X_test.shape)\n",
    "print(\"y_train shape:\", y_train.shape)\n",
    "print(\"y_test shape:\", y_test.shape)\n"
   ]
  },
  {
   "cell_type": "code",
   "execution_count": 122,
   "metadata": {},
   "outputs": [
    {
     "data": {
      "text/html": [
       "<div>\n",
       "<style scoped>\n",
       "    .dataframe tbody tr th:only-of-type {\n",
       "        vertical-align: middle;\n",
       "    }\n",
       "\n",
       "    .dataframe tbody tr th {\n",
       "        vertical-align: top;\n",
       "    }\n",
       "\n",
       "    .dataframe thead th {\n",
       "        text-align: right;\n",
       "    }\n",
       "</style>\n",
       "<table border=\"1\" class=\"dataframe\">\n",
       "  <thead>\n",
       "    <tr style=\"text-align: right;\">\n",
       "      <th></th>\n",
       "      <th>bed</th>\n",
       "      <th>bath</th>\n",
       "      <th>acre_lot</th>\n",
       "      <th>city</th>\n",
       "      <th>state</th>\n",
       "      <th>zip_code</th>\n",
       "      <th>house_size</th>\n",
       "      <th>prev_sold_date</th>\n",
       "      <th>house_age_since_sold</th>\n",
       "      <th>price_per_sqft</th>\n",
       "      <th>average_house_value_per_zipcode</th>\n",
       "    </tr>\n",
       "  </thead>\n",
       "  <tbody>\n",
       "    <tr>\n",
       "      <th>34730</th>\n",
       "      <td>4.0</td>\n",
       "      <td>2.0</td>\n",
       "      <td>1.00</td>\n",
       "      <td>24</td>\n",
       "      <td>0</td>\n",
       "      <td>502</td>\n",
       "      <td>2108.0</td>\n",
       "      <td>2094</td>\n",
       "      <td>5945</td>\n",
       "      <td>156</td>\n",
       "      <td>561</td>\n",
       "    </tr>\n",
       "    <tr>\n",
       "      <th>9826</th>\n",
       "      <td>3.0</td>\n",
       "      <td>2.0</td>\n",
       "      <td>0.25</td>\n",
       "      <td>363</td>\n",
       "      <td>0</td>\n",
       "      <td>40</td>\n",
       "      <td>1476.0</td>\n",
       "      <td>1001</td>\n",
       "      <td>8130</td>\n",
       "      <td>212</td>\n",
       "      <td>557</td>\n",
       "    </tr>\n",
       "    <tr>\n",
       "      <th>3931</th>\n",
       "      <td>3.0</td>\n",
       "      <td>2.0</td>\n",
       "      <td>0.19</td>\n",
       "      <td>338</td>\n",
       "      <td>0</td>\n",
       "      <td>440</td>\n",
       "      <td>1765.0</td>\n",
       "      <td>3203</td>\n",
       "      <td>3771</td>\n",
       "      <td>181</td>\n",
       "      <td>547</td>\n",
       "    </tr>\n",
       "    <tr>\n",
       "      <th>1162</th>\n",
       "      <td>3.0</td>\n",
       "      <td>3.0</td>\n",
       "      <td>10.24</td>\n",
       "      <td>581</td>\n",
       "      <td>0</td>\n",
       "      <td>523</td>\n",
       "      <td>2300.0</td>\n",
       "      <td>3203</td>\n",
       "      <td>3771</td>\n",
       "      <td>369</td>\n",
       "      <td>599</td>\n",
       "    </tr>\n",
       "    <tr>\n",
       "      <th>34000</th>\n",
       "      <td>4.0</td>\n",
       "      <td>3.0</td>\n",
       "      <td>0.41</td>\n",
       "      <td>671</td>\n",
       "      <td>0</td>\n",
       "      <td>457</td>\n",
       "      <td>2746.0</td>\n",
       "      <td>3203</td>\n",
       "      <td>3771</td>\n",
       "      <td>214</td>\n",
       "      <td>613</td>\n",
       "    </tr>\n",
       "  </tbody>\n",
       "</table>\n",
       "</div>"
      ],
      "text/plain": [
       "       bed  bath  acre_lot  city  state  zip_code  house_size  prev_sold_date  \\\n",
       "34730  4.0   2.0      1.00    24      0       502      2108.0            2094   \n",
       "9826   3.0   2.0      0.25   363      0        40      1476.0            1001   \n",
       "3931   3.0   2.0      0.19   338      0       440      1765.0            3203   \n",
       "1162   3.0   3.0     10.24   581      0       523      2300.0            3203   \n",
       "34000  4.0   3.0      0.41   671      0       457      2746.0            3203   \n",
       "\n",
       "       house_age_since_sold  price_per_sqft  average_house_value_per_zipcode  \n",
       "34730                  5945             156                              561  \n",
       "9826                   8130             212                              557  \n",
       "3931                   3771             181                              547  \n",
       "1162                   3771             369                              599  \n",
       "34000                  3771             214                              613  "
      ]
     },
     "execution_count": 122,
     "metadata": {},
     "output_type": "execute_result"
    }
   ],
   "source": [
    "X_train.head()"
   ]
  },
  {
   "cell_type": "code",
   "execution_count": 123,
   "metadata": {},
   "outputs": [
    {
     "data": {
      "text/plain": [
       "bed                                float64\n",
       "bath                               float64\n",
       "acre_lot                           float64\n",
       "city                                 int32\n",
       "state                                int32\n",
       "zip_code                             int64\n",
       "house_size                         float64\n",
       "prev_sold_date                       int64\n",
       "house_age_since_sold                 int64\n",
       "price_per_sqft                       int32\n",
       "average_house_value_per_zipcode      int32\n",
       "dtype: object"
      ]
     },
     "execution_count": 123,
     "metadata": {},
     "output_type": "execute_result"
    }
   ],
   "source": [
    "# checking the dtypes to know which column I need to change.\n",
    "\n",
    "X_train.dtypes"
   ]
  },
  {
   "cell_type": "code",
   "execution_count": 124,
   "metadata": {},
   "outputs": [
    {
     "data": {
      "text/html": [
       "<style>#sk-container-id-7 {color: black;background-color: white;}#sk-container-id-7 pre{padding: 0;}#sk-container-id-7 div.sk-toggleable {background-color: white;}#sk-container-id-7 label.sk-toggleable__label {cursor: pointer;display: block;width: 100%;margin-bottom: 0;padding: 0.3em;box-sizing: border-box;text-align: center;}#sk-container-id-7 label.sk-toggleable__label-arrow:before {content: \"▸\";float: left;margin-right: 0.25em;color: #696969;}#sk-container-id-7 label.sk-toggleable__label-arrow:hover:before {color: black;}#sk-container-id-7 div.sk-estimator:hover label.sk-toggleable__label-arrow:before {color: black;}#sk-container-id-7 div.sk-toggleable__content {max-height: 0;max-width: 0;overflow: hidden;text-align: left;background-color: #f0f8ff;}#sk-container-id-7 div.sk-toggleable__content pre {margin: 0.2em;color: black;border-radius: 0.25em;background-color: #f0f8ff;}#sk-container-id-7 input.sk-toggleable__control:checked~div.sk-toggleable__content {max-height: 200px;max-width: 100%;overflow: auto;}#sk-container-id-7 input.sk-toggleable__control:checked~label.sk-toggleable__label-arrow:before {content: \"▾\";}#sk-container-id-7 div.sk-estimator input.sk-toggleable__control:checked~label.sk-toggleable__label {background-color: #d4ebff;}#sk-container-id-7 div.sk-label input.sk-toggleable__control:checked~label.sk-toggleable__label {background-color: #d4ebff;}#sk-container-id-7 input.sk-hidden--visually {border: 0;clip: rect(1px 1px 1px 1px);clip: rect(1px, 1px, 1px, 1px);height: 1px;margin: -1px;overflow: hidden;padding: 0;position: absolute;width: 1px;}#sk-container-id-7 div.sk-estimator {font-family: monospace;background-color: #f0f8ff;border: 1px dotted black;border-radius: 0.25em;box-sizing: border-box;margin-bottom: 0.5em;}#sk-container-id-7 div.sk-estimator:hover {background-color: #d4ebff;}#sk-container-id-7 div.sk-parallel-item::after {content: \"\";width: 100%;border-bottom: 1px solid gray;flex-grow: 1;}#sk-container-id-7 div.sk-label:hover label.sk-toggleable__label {background-color: #d4ebff;}#sk-container-id-7 div.sk-serial::before {content: \"\";position: absolute;border-left: 1px solid gray;box-sizing: border-box;top: 0;bottom: 0;left: 50%;z-index: 0;}#sk-container-id-7 div.sk-serial {display: flex;flex-direction: column;align-items: center;background-color: white;padding-right: 0.2em;padding-left: 0.2em;position: relative;}#sk-container-id-7 div.sk-item {position: relative;z-index: 1;}#sk-container-id-7 div.sk-parallel {display: flex;align-items: stretch;justify-content: center;background-color: white;position: relative;}#sk-container-id-7 div.sk-item::before, #sk-container-id-7 div.sk-parallel-item::before {content: \"\";position: absolute;border-left: 1px solid gray;box-sizing: border-box;top: 0;bottom: 0;left: 50%;z-index: -1;}#sk-container-id-7 div.sk-parallel-item {display: flex;flex-direction: column;z-index: 1;position: relative;background-color: white;}#sk-container-id-7 div.sk-parallel-item:first-child::after {align-self: flex-end;width: 50%;}#sk-container-id-7 div.sk-parallel-item:last-child::after {align-self: flex-start;width: 50%;}#sk-container-id-7 div.sk-parallel-item:only-child::after {width: 0;}#sk-container-id-7 div.sk-dashed-wrapped {border: 1px dashed gray;margin: 0 0.4em 0.5em 0.4em;box-sizing: border-box;padding-bottom: 0.4em;background-color: white;}#sk-container-id-7 div.sk-label label {font-family: monospace;font-weight: bold;display: inline-block;line-height: 1.2em;}#sk-container-id-7 div.sk-label-container {text-align: center;}#sk-container-id-7 div.sk-container {/* jupyter's `normalize.less` sets `[hidden] { display: none; }` but bootstrap.min.css set `[hidden] { display: none !important; }` so we also need the `!important` here to be able to override the default hidden behavior on the sphinx rendered scikit-learn.org. See: https://github.com/scikit-learn/scikit-learn/issues/21755 */display: inline-block !important;position: relative;}#sk-container-id-7 div.sk-text-repr-fallback {display: none;}</style><div id=\"sk-container-id-7\" class=\"sk-top-container\"><div class=\"sk-text-repr-fallback\"><pre>LinearRegression()</pre><b>In a Jupyter environment, please rerun this cell to show the HTML representation or trust the notebook. <br />On GitHub, the HTML representation is unable to render, please try loading this page with nbviewer.org.</b></div><div class=\"sk-container\" hidden><div class=\"sk-item\"><div class=\"sk-estimator sk-toggleable\"><input class=\"sk-toggleable__control sk-hidden--visually\" id=\"sk-estimator-id-7\" type=\"checkbox\" checked><label for=\"sk-estimator-id-7\" class=\"sk-toggleable__label sk-toggleable__label-arrow\">LinearRegression</label><div class=\"sk-toggleable__content\"><pre>LinearRegression()</pre></div></div></div></div></div>"
      ],
      "text/plain": [
       "LinearRegression()"
      ]
     },
     "execution_count": 124,
     "metadata": {},
     "output_type": "execute_result"
    }
   ],
   "source": [
    "# Instantiate the model\n",
    "model = LinearRegression()\n",
    "\n",
    "# Fit the model to the training data\n",
    "model.fit(X_train, y_train)"
   ]
  },
  {
   "cell_type": "code",
   "execution_count": 125,
   "metadata": {},
   "outputs": [],
   "source": [
    "# Make predictions on the testing set\n",
    "y_pred = model.predict(X_test)"
   ]
  },
  {
   "cell_type": "code",
   "execution_count": 126,
   "metadata": {},
   "outputs": [
    {
     "name": "stdout",
     "output_type": "stream",
     "text": [
      "MAE: 1491.9793261173284\n",
      "MSE: 3639839.484433461\n",
      "R-squared: 0.31154897709090157\n"
     ]
    }
   ],
   "source": [
    "# Make predictions on the test data\n",
    "y_pred = model.predict(X_test)\n",
    "\n",
    "# Evaluate the model (compare y_test with y_pred, not y_train)\n",
    "mae = mean_absolute_error(y_test, y_pred)\n",
    "mse = mean_squared_error(y_test, y_pred)\n",
    "r2 = r2_score(y_test, y_pred)\n",
    "\n",
    "print(f\"MAE: {mae}\")\n",
    "print(f\"MSE: {mse}\")\n",
    "print(f\"R-squared: {r2}\")"
   ]
  },
  {
   "cell_type": "code",
   "execution_count": 127,
   "metadata": {},
   "outputs": [
    {
     "data": {
      "image/png": "[encoded data removed]",
      "text/plain": [
       "<Figure size 640x480 with 1 Axes>"
      ]
     },
     "metadata": {},
     "output_type": "display_data"
    }
   ],
   "source": [
    "# Plot predicted vs actual\n",
    "plt.scatter(y_test, y_pred)\n",
    "plt.xlabel(\"Actual Values\")\n",
    "plt.ylabel(\"Predicted Values\")\n",
    "plt.title(\"Actual vs Predicted\")\n",
    "plt.show()"
   ]
  },
  {
   "cell_type": "markdown",
   "metadata": {},
   "source": [
    "# Trying to Improve my Model"
   ]
  },
  {
   "cell_type": "code",
   "execution_count": 128,
   "metadata": {},
   "outputs": [],
   "source": [
    "scaler = StandardScaler()\n",
    "X_train_scaled = scaler.fit_transform(X_train)\n",
    "X_test_scaled = scaler.transform(X_test)"
   ]
  },
  {
   "cell_type": "code",
   "execution_count": 129,
   "metadata": {},
   "outputs": [
    {
     "name": "stderr",
     "output_type": "stream",
     "text": [
      "c:\\ProgramData\\anaconda3\\Lib\\site-packages\\sklearn\\base.py:439: UserWarning: X does not have valid feature names, but IsolationForest was fitted with feature names\n",
      "  warnings.warn(\n"
     ]
    }
   ],
   "source": [
    "from sklearn.ensemble import IsolationForest\n",
    "\n",
    "iso = IsolationForest(contamination=0.05)\n",
    "outliers = iso.fit_predict(X_train)\n",
    "# Remove outliers\n",
    "X_train, y_train = X_train[outliers == 1], y_train[outliers == 1]"
   ]
  },
  {
   "cell_type": "code",
   "execution_count": 131,
   "metadata": {},
   "outputs": [],
   "source": [
    "from sklearn.preprocessing import PolynomialFeatures\n",
    "\n",
    "poly = PolynomialFeatures(degree=2)\n",
    "X_train_poly = poly.fit_transform(X_train)\n",
    "X_test_poly = poly.transform(X_test)"
   ]
  },
  {
   "cell_type": "code",
   "execution_count": 132,
   "metadata": {},
   "outputs": [],
   "source": [
    "from sklearn.feature_selection import RFE\n",
    "from sklearn.linear_model import LinearRegression\n",
    "\n",
    "model = LinearRegression()\n",
    "rfe = RFE(model, n_features_to_select=5)\n",
    "X_rfe = rfe.fit_transform(X_train, y_train)"
   ]
  },
  {
   "cell_type": "code",
   "execution_count": 133,
   "metadata": {},
   "outputs": [
    {
     "data": {
      "text/html": [
       "<style>#sk-container-id-8 {color: black;background-color: white;}#sk-container-id-8 pre{padding: 0;}#sk-container-id-8 div.sk-toggleable {background-color: white;}#sk-container-id-8 label.sk-toggleable__label {cursor: pointer;display: block;width: 100%;margin-bottom: 0;padding: 0.3em;box-sizing: border-box;text-align: center;}#sk-container-id-8 label.sk-toggleable__label-arrow:before {content: \"▸\";float: left;margin-right: 0.25em;color: #696969;}#sk-container-id-8 label.sk-toggleable__label-arrow:hover:before {color: black;}#sk-container-id-8 div.sk-estimator:hover label.sk-toggleable__label-arrow:before {color: black;}#sk-container-id-8 div.sk-toggleable__content {max-height: 0;max-width: 0;overflow: hidden;text-align: left;background-color: #f0f8ff;}#sk-container-id-8 div.sk-toggleable__content pre {margin: 0.2em;color: black;border-radius: 0.25em;background-color: #f0f8ff;}#sk-container-id-8 input.sk-toggleable__control:checked~div.sk-toggleable__content {max-height: 200px;max-width: 100%;overflow: auto;}#sk-container-id-8 input.sk-toggleable__control:checked~label.sk-toggleable__label-arrow:before {content: \"▾\";}#sk-container-id-8 div.sk-estimator input.sk-toggleable__control:checked~label.sk-toggleable__label {background-color: #d4ebff;}#sk-container-id-8 div.sk-label input.sk-toggleable__control:checked~label.sk-toggleable__label {background-color: #d4ebff;}#sk-container-id-8 input.sk-hidden--visually {border: 0;clip: rect(1px 1px 1px 1px);clip: rect(1px, 1px, 1px, 1px);height: 1px;margin: -1px;overflow: hidden;padding: 0;position: absolute;width: 1px;}#sk-container-id-8 div.sk-estimator {font-family: monospace;background-color: #f0f8ff;border: 1px dotted black;border-radius: 0.25em;box-sizing: border-box;margin-bottom: 0.5em;}#sk-container-id-8 div.sk-estimator:hover {background-color: #d4ebff;}#sk-container-id-8 div.sk-parallel-item::after {content: \"\";width: 100%;border-bottom: 1px solid gray;flex-grow: 1;}#sk-container-id-8 div.sk-label:hover label.sk-toggleable__label {background-color: #d4ebff;}#sk-container-id-8 div.sk-serial::before {content: \"\";position: absolute;border-left: 1px solid gray;box-sizing: border-box;top: 0;bottom: 0;left: 50%;z-index: 0;}#sk-container-id-8 div.sk-serial {display: flex;flex-direction: column;align-items: center;background-color: white;padding-right: 0.2em;padding-left: 0.2em;position: relative;}#sk-container-id-8 div.sk-item {position: relative;z-index: 1;}#sk-container-id-8 div.sk-parallel {display: flex;align-items: stretch;justify-content: center;background-color: white;position: relative;}#sk-container-id-8 div.sk-item::before, #sk-container-id-8 div.sk-parallel-item::before {content: \"\";position: absolute;border-left: 1px solid gray;box-sizing: border-box;top: 0;bottom: 0;left: 50%;z-index: -1;}#sk-container-id-8 div.sk-parallel-item {display: flex;flex-direction: column;z-index: 1;position: relative;background-color: white;}#sk-container-id-8 div.sk-parallel-item:first-child::after {align-self: flex-end;width: 50%;}#sk-container-id-8 div.sk-parallel-item:last-child::after {align-self: flex-start;width: 50%;}#sk-container-id-8 div.sk-parallel-item:only-child::after {width: 0;}#sk-container-id-8 div.sk-dashed-wrapped {border: 1px dashed gray;margin: 0 0.4em 0.5em 0.4em;box-sizing: border-box;padding-bottom: 0.4em;background-color: white;}#sk-container-id-8 div.sk-label label {font-family: monospace;font-weight: bold;display: inline-block;line-height: 1.2em;}#sk-container-id-8 div.sk-label-container {text-align: center;}#sk-container-id-8 div.sk-container {/* jupyter's `normalize.less` sets `[hidden] { display: none; }` but bootstrap.min.css set `[hidden] { display: none !important; }` so we also need the `!important` here to be able to override the default hidden behavior on the sphinx rendered scikit-learn.org. See: https://github.com/scikit-learn/scikit-learn/issues/21755 */display: inline-block !important;position: relative;}#sk-container-id-8 div.sk-text-repr-fallback {display: none;}</style><div id=\"sk-container-id-8\" class=\"sk-top-container\"><div class=\"sk-text-repr-fallback\"><pre>RandomForestRegressor(random_state=42)</pre><b>In a Jupyter environment, please rerun this cell to show the HTML representation or trust the notebook. <br />On GitHub, the HTML representation is unable to render, please try loading this page with nbviewer.org.</b></div><div class=\"sk-container\" hidden><div class=\"sk-item\"><div class=\"sk-estimator sk-toggleable\"><input class=\"sk-toggleable__control sk-hidden--visually\" id=\"sk-estimator-id-8\" type=\"checkbox\" checked><label for=\"sk-estimator-id-8\" class=\"sk-toggleable__label sk-toggleable__label-arrow\">RandomForestRegressor</label><div class=\"sk-toggleable__content\"><pre>RandomForestRegressor(random_state=42)</pre></div></div></div></div></div>"
      ],
      "text/plain": [
       "RandomForestRegressor(random_state=42)"
      ]
     },
     "execution_count": 133,
     "metadata": {},
     "output_type": "execute_result"
    }
   ],
   "source": [
    "from sklearn.ensemble import RandomForestRegressor\n",
    "\n",
    "model = RandomForestRegressor(n_estimators=100, random_state=42)\n",
    "model.fit(X_train, y_train)"
   ]
  },
  {
   "cell_type": "code",
   "execution_count": 134,
   "metadata": {},
   "outputs": [
    {
     "data": {
      "text/html": [
       "<style>#sk-container-id-9 {color: black;background-color: white;}#sk-container-id-9 pre{padding: 0;}#sk-container-id-9 div.sk-toggleable {background-color: white;}#sk-container-id-9 label.sk-toggleable__label {cursor: pointer;display: block;width: 100%;margin-bottom: 0;padding: 0.3em;box-sizing: border-box;text-align: center;}#sk-container-id-9 label.sk-toggleable__label-arrow:before {content: \"▸\";float: left;margin-right: 0.25em;color: #696969;}#sk-container-id-9 label.sk-toggleable__label-arrow:hover:before {color: black;}#sk-container-id-9 div.sk-estimator:hover label.sk-toggleable__label-arrow:before {color: black;}#sk-container-id-9 div.sk-toggleable__content {max-height: 0;max-width: 0;overflow: hidden;text-align: left;background-color: #f0f8ff;}#sk-container-id-9 div.sk-toggleable__content pre {margin: 0.2em;color: black;border-radius: 0.25em;background-color: #f0f8ff;}#sk-container-id-9 input.sk-toggleable__control:checked~div.sk-toggleable__content {max-height: 200px;max-width: 100%;overflow: auto;}#sk-container-id-9 input.sk-toggleable__control:checked~label.sk-toggleable__label-arrow:before {content: \"▾\";}#sk-container-id-9 div.sk-estimator input.sk-toggleable__control:checked~label.sk-toggleable__label {background-color: #d4ebff;}#sk-container-id-9 div.sk-label input.sk-toggleable__control:checked~label.sk-toggleable__label {background-color: #d4ebff;}#sk-container-id-9 input.sk-hidden--visually {border: 0;clip: rect(1px 1px 1px 1px);clip: rect(1px, 1px, 1px, 1px);height: 1px;margin: -1px;overflow: hidden;padding: 0;position: absolute;width: 1px;}#sk-container-id-9 div.sk-estimator {font-family: monospace;background-color: #f0f8ff;border: 1px dotted black;border-radius: 0.25em;box-sizing: border-box;margin-bottom: 0.5em;}#sk-container-id-9 div.sk-estimator:hover {background-color: #d4ebff;}#sk-container-id-9 div.sk-parallel-item::after {content: \"\";width: 100%;border-bottom: 1px solid gray;flex-grow: 1;}#sk-container-id-9 div.sk-label:hover label.sk-toggleable__label {background-color: #d4ebff;}#sk-container-id-9 div.sk-serial::before {content: \"\";position: absolute;border-left: 1px solid gray;box-sizing: border-box;top: 0;bottom: 0;left: 50%;z-index: 0;}#sk-container-id-9 div.sk-serial {display: flex;flex-direction: column;align-items: center;background-color: white;padding-right: 0.2em;padding-left: 0.2em;position: relative;}#sk-container-id-9 div.sk-item {position: relative;z-index: 1;}#sk-container-id-9 div.sk-parallel {display: flex;align-items: stretch;justify-content: center;background-color: white;position: relative;}#sk-container-id-9 div.sk-item::before, #sk-container-id-9 div.sk-parallel-item::before {content: \"\";position: absolute;border-left: 1px solid gray;box-sizing: border-box;top: 0;bottom: 0;left: 50%;z-index: -1;}#sk-container-id-9 div.sk-parallel-item {display: flex;flex-direction: column;z-index: 1;position: relative;background-color: white;}#sk-container-id-9 div.sk-parallel-item:first-child::after {align-self: flex-end;width: 50%;}#sk-container-id-9 div.sk-parallel-item:last-child::after {align-self: flex-start;width: 50%;}#sk-container-id-9 div.sk-parallel-item:only-child::after {width: 0;}#sk-container-id-9 div.sk-dashed-wrapped {border: 1px dashed gray;margin: 0 0.4em 0.5em 0.4em;box-sizing: border-box;padding-bottom: 0.4em;background-color: white;}#sk-container-id-9 div.sk-label label {font-family: monospace;font-weight: bold;display: inline-block;line-height: 1.2em;}#sk-container-id-9 div.sk-label-container {text-align: center;}#sk-container-id-9 div.sk-container {/* jupyter's `normalize.less` sets `[hidden] { display: none; }` but bootstrap.min.css set `[hidden] { display: none !important; }` so we also need the `!important` here to be able to override the default hidden behavior on the sphinx rendered scikit-learn.org. See: https://github.com/scikit-learn/scikit-learn/issues/21755 */display: inline-block !important;position: relative;}#sk-container-id-9 div.sk-text-repr-fallback {display: none;}</style><div id=\"sk-container-id-9\" class=\"sk-top-container\"><div class=\"sk-text-repr-fallback\"><pre>Lasso(alpha=0.1)</pre><b>In a Jupyter environment, please rerun this cell to show the HTML representation or trust the notebook. <br />On GitHub, the HTML representation is unable to render, please try loading this page with nbviewer.org.</b></div><div class=\"sk-container\" hidden><div class=\"sk-item\"><div class=\"sk-estimator sk-toggleable\"><input class=\"sk-toggleable__control sk-hidden--visually\" id=\"sk-estimator-id-9\" type=\"checkbox\" checked><label for=\"sk-estimator-id-9\" class=\"sk-toggleable__label sk-toggleable__label-arrow\">Lasso</label><div class=\"sk-toggleable__content\"><pre>Lasso(alpha=0.1)</pre></div></div></div></div></div>"
      ],
      "text/plain": [
       "Lasso(alpha=0.1)"
      ]
     },
     "execution_count": 134,
     "metadata": {},
     "output_type": "execute_result"
    }
   ],
   "source": [
    "from sklearn.linear_model import Ridge, Lasso\n",
    "\n",
    "ridge = Ridge(alpha=1.0)\n",
    "ridge.fit(X_train, y_train)\n",
    "\n",
    "lasso = Lasso(alpha=0.1)\n",
    "lasso.fit(X_train, y_train)"
   ]
  },
  {
   "cell_type": "code",
   "execution_count": 135,
   "metadata": {},
   "outputs": [
    {
     "name": "stdout",
     "output_type": "stream",
     "text": [
      "Cross-validation scores: -75429.58394368898\n"
     ]
    }
   ],
   "source": [
    "from sklearn.model_selection import cross_val_score\n",
    "\n",
    "scores = cross_val_score(model, X_train, y_train, cv=5, scoring='neg_mean_squared_error')\n",
    "print(f\"Cross-validation scores: {scores.mean()}\")"
   ]
  },
  {
   "cell_type": "code",
   "execution_count": 136,
   "metadata": {},
   "outputs": [
    {
     "name": "stdout",
     "output_type": "stream",
     "text": [
      "Cross-validation MSE: 75429.58394368898\n"
     ]
    }
   ],
   "source": [
    "# Convert negative MSE to positive MSE\n",
    "mse_scores = -scores\n",
    "mean_mse = mse_scores.mean()\n",
    "print(f\"Cross-validation MSE: {mean_mse}\")"
   ]
  },
  {
   "cell_type": "code",
   "execution_count": 137,
   "metadata": {},
   "outputs": [
    {
     "data": {
      "image/png": "[encoded data removed]",
      "text/plain": [
       "<Figure size 640x480 with 1 Axes>"
      ]
     },
     "metadata": {},
     "output_type": "display_data"
    }
   ],
   "source": [
    "# Plot predicted vs actual\n",
    "plt.scatter(y_test, y_pred)\n",
    "plt.xlabel(\"Actual Values\")\n",
    "plt.ylabel(\"Predicted Values\")\n",
    "plt.title(\"Actual vs Predicted\")\n",
    "plt.show()"
   ]
  },
  {
   "cell_type": "code",
   "execution_count": 138,
   "metadata": {},
   "outputs": [
    {
     "data": {
      "image/png": "[encoded data removed]",
      "text/plain": [
       "<Figure size 640x480 with 1 Axes>"
      ]
     },
     "metadata": {},
     "output_type": "display_data"
    }
   ],
   "source": [
    "residuals = y_test - y_pred\n",
    "plt.scatter(y_test, residuals, alpha=0.5)\n",
    "plt.axhline(y=0, color='r', linestyle='--')\n",
    "plt.xlabel(\"Actual Values\")\n",
    "plt.ylabel(\"Residuals (Actual - Predicted)\")\n",
    "plt.title(\"Residuals Plot\")\n",
    "plt.show()"
   ]
  },
  {
   "cell_type": "code",
   "execution_count": 139,
   "metadata": {},
   "outputs": [
    {
     "data": {
      "image/png": "[encoded data removed]",
      "text/plain": [
       "<Figure size 640x480 with 1 Axes>"
      ]
     },
     "metadata": {},
     "output_type": "display_data"
    }
   ],
   "source": [
    "# Plot predicted vs actual\n",
    "plt.scatter(y_test, y_pred, alpha=0.5)\n",
    "plt.plot([y_test.min(), y_test.max()], [y_test.min(), y_test.max()], 'r--', lw=2)\n",
    "plt.xlabel(\"Actual Values\")\n",
    "plt.ylabel(\"Predicted Values\")\n",
    "plt.title(\"Actual vs Predicted\")\n",
    "plt.show()"
   ]
  },
  {
   "cell_type": "markdown",
   "metadata": {},
   "source": [
    "# tyring a simple dataset without Feature engineering just a clean prepocess dataset. "
   ]
  },
  {
   "cell_type": "code",
   "execution_count": 153,
   "metadata": {},
   "outputs": [
    {
     "data": {
      "text/plain": [
       "(13363, 12)"
      ]
     },
     "execution_count": 153,
     "metadata": {},
     "output_type": "execute_result"
    }
   ],
   "source": [
    "process_data_df=Clean_data_df.copy()\n",
    "\n",
    "process_data_df.shape"
   ]
  },
  {
   "cell_type": "code",
   "execution_count": 154,
   "metadata": {},
   "outputs": [
    {
     "data": {
      "text/html": [
       "<div>\n",
       "<style scoped>\n",
       "    .dataframe tbody tr th:only-of-type {\n",
       "        vertical-align: middle;\n",
       "    }\n",
       "\n",
       "    .dataframe tbody tr th {\n",
       "        vertical-align: top;\n",
       "    }\n",
       "\n",
       "    .dataframe thead th {\n",
       "        text-align: right;\n",
       "    }\n",
       "</style>\n",
       "<table border=\"1\" class=\"dataframe\">\n",
       "  <thead>\n",
       "    <tr style=\"text-align: right;\">\n",
       "      <th></th>\n",
       "      <th>brokered_by</th>\n",
       "      <th>status</th>\n",
       "      <th>price</th>\n",
       "      <th>bed</th>\n",
       "      <th>bath</th>\n",
       "      <th>acre_lot</th>\n",
       "      <th>street</th>\n",
       "      <th>city</th>\n",
       "      <th>state</th>\n",
       "      <th>zip_code</th>\n",
       "      <th>house_size</th>\n",
       "      <th>prev_sold_date</th>\n",
       "    </tr>\n",
       "  </thead>\n",
       "  <tbody>\n",
       "    <tr>\n",
       "      <th>18</th>\n",
       "      <td>22959.0</td>\n",
       "      <td>for_sale</td>\n",
       "      <td>349000.0</td>\n",
       "      <td>6.0</td>\n",
       "      <td>5.0</td>\n",
       "      <td>4.41</td>\n",
       "      <td>307395.0</td>\n",
       "      <td>Newton</td>\n",
       "      <td>Texas</td>\n",
       "      <td>75966</td>\n",
       "      <td>5888.0</td>\n",
       "      <td>2014-06-17</td>\n",
       "    </tr>\n",
       "    <tr>\n",
       "      <th>19</th>\n",
       "      <td>106174.0</td>\n",
       "      <td>for_sale</td>\n",
       "      <td>249500.0</td>\n",
       "      <td>2.0</td>\n",
       "      <td>2.0</td>\n",
       "      <td>1.19</td>\n",
       "      <td>363547.0</td>\n",
       "      <td>Hemphill</td>\n",
       "      <td>Texas</td>\n",
       "      <td>75948</td>\n",
       "      <td>1872.0</td>\n",
       "      <td>2022-04-28</td>\n",
       "    </tr>\n",
       "    <tr>\n",
       "      <th>23</th>\n",
       "      <td>4317.0</td>\n",
       "      <td>for_sale</td>\n",
       "      <td>479000.0</td>\n",
       "      <td>5.0</td>\n",
       "      <td>4.0</td>\n",
       "      <td>6.28</td>\n",
       "      <td>840246.0</td>\n",
       "      <td>Newton</td>\n",
       "      <td>Texas</td>\n",
       "      <td>75966</td>\n",
       "      <td>4248.0</td>\n",
       "      <td>2022-05-06</td>\n",
       "    </tr>\n",
       "    <tr>\n",
       "      <th>27</th>\n",
       "      <td>100789.0</td>\n",
       "      <td>for_sale</td>\n",
       "      <td>179900.0</td>\n",
       "      <td>3.0</td>\n",
       "      <td>2.0</td>\n",
       "      <td>2.23</td>\n",
       "      <td>439804.0</td>\n",
       "      <td>Burkeville</td>\n",
       "      <td>Texas</td>\n",
       "      <td>75932</td>\n",
       "      <td>1240.0</td>\n",
       "      <td>2022-01-28</td>\n",
       "    </tr>\n",
       "    <tr>\n",
       "      <th>28</th>\n",
       "      <td>30107.0</td>\n",
       "      <td>for_sale</td>\n",
       "      <td>134900.0</td>\n",
       "      <td>4.0</td>\n",
       "      <td>2.0</td>\n",
       "      <td>0.29</td>\n",
       "      <td>1463813.0</td>\n",
       "      <td>Newton</td>\n",
       "      <td>Texas</td>\n",
       "      <td>75966</td>\n",
       "      <td>2010.0</td>\n",
       "      <td>2021-07-29</td>\n",
       "    </tr>\n",
       "  </tbody>\n",
       "</table>\n",
       "</div>"
      ],
      "text/plain": [
       "    brokered_by    status     price  bed  bath  acre_lot     street  \\\n",
       "18      22959.0  for_sale  349000.0  6.0   5.0      4.41   307395.0   \n",
       "19     106174.0  for_sale  249500.0  2.0   2.0      1.19   363547.0   \n",
       "23       4317.0  for_sale  479000.0  5.0   4.0      6.28   840246.0   \n",
       "27     100789.0  for_sale  179900.0  3.0   2.0      2.23   439804.0   \n",
       "28      30107.0  for_sale  134900.0  4.0   2.0      0.29  1463813.0   \n",
       "\n",
       "          city  state  zip_code  house_size prev_sold_date  \n",
       "18      Newton  Texas     75966      5888.0     2014-06-17  \n",
       "19    Hemphill  Texas     75948      1872.0     2022-04-28  \n",
       "23      Newton  Texas     75966      4248.0     2022-05-06  \n",
       "27  Burkeville  Texas     75932      1240.0     2022-01-28  \n",
       "28      Newton  Texas     75966      2010.0     2021-07-29  "
      ]
     },
     "execution_count": 154,
     "metadata": {},
     "output_type": "execute_result"
    }
   ],
   "source": [
    "process_data_df.head()"
   ]
  },
  {
   "cell_type": "code",
   "execution_count": 155,
   "metadata": {},
   "outputs": [
    {
     "name": "stdout",
     "output_type": "stream",
     "text": [
      "brokered_by       0\n",
      "status            0\n",
      "price             0\n",
      "bed               0\n",
      "bath              0\n",
      "acre_lot          0\n",
      "street            0\n",
      "city              0\n",
      "state             0\n",
      "zip_code          0\n",
      "house_size        0\n",
      "prev_sold_date    0\n",
      "dtype: int64\n"
     ]
    }
   ],
   "source": [
    "# Verifying that there no more missing datas\n",
    "print(Clean_data_df.isnull().sum())"
   ]
  },
  {
   "cell_type": "code",
   "execution_count": 156,
   "metadata": {},
   "outputs": [
    {
     "data": {
      "text/html": [
       "<div>\n",
       "<style scoped>\n",
       "    .dataframe tbody tr th:only-of-type {\n",
       "        vertical-align: middle;\n",
       "    }\n",
       "\n",
       "    .dataframe tbody tr th {\n",
       "        vertical-align: top;\n",
       "    }\n",
       "\n",
       "    .dataframe thead th {\n",
       "        text-align: right;\n",
       "    }\n",
       "</style>\n",
       "<table border=\"1\" class=\"dataframe\">\n",
       "  <thead>\n",
       "    <tr style=\"text-align: right;\">\n",
       "      <th></th>\n",
       "      <th>price</th>\n",
       "      <th>bed</th>\n",
       "      <th>bath</th>\n",
       "      <th>acre_lot</th>\n",
       "      <th>city</th>\n",
       "      <th>state</th>\n",
       "      <th>zip_code</th>\n",
       "      <th>house_size</th>\n",
       "    </tr>\n",
       "  </thead>\n",
       "  <tbody>\n",
       "    <tr>\n",
       "      <th>18</th>\n",
       "      <td>349000.0</td>\n",
       "      <td>6.0</td>\n",
       "      <td>5.0</td>\n",
       "      <td>4.41</td>\n",
       "      <td>Newton</td>\n",
       "      <td>Texas</td>\n",
       "      <td>75966</td>\n",
       "      <td>5888.0</td>\n",
       "    </tr>\n",
       "    <tr>\n",
       "      <th>19</th>\n",
       "      <td>249500.0</td>\n",
       "      <td>2.0</td>\n",
       "      <td>2.0</td>\n",
       "      <td>1.19</td>\n",
       "      <td>Hemphill</td>\n",
       "      <td>Texas</td>\n",
       "      <td>75948</td>\n",
       "      <td>1872.0</td>\n",
       "    </tr>\n",
       "    <tr>\n",
       "      <th>23</th>\n",
       "      <td>479000.0</td>\n",
       "      <td>5.0</td>\n",
       "      <td>4.0</td>\n",
       "      <td>6.28</td>\n",
       "      <td>Newton</td>\n",
       "      <td>Texas</td>\n",
       "      <td>75966</td>\n",
       "      <td>4248.0</td>\n",
       "    </tr>\n",
       "    <tr>\n",
       "      <th>27</th>\n",
       "      <td>179900.0</td>\n",
       "      <td>3.0</td>\n",
       "      <td>2.0</td>\n",
       "      <td>2.23</td>\n",
       "      <td>Burkeville</td>\n",
       "      <td>Texas</td>\n",
       "      <td>75932</td>\n",
       "      <td>1240.0</td>\n",
       "    </tr>\n",
       "    <tr>\n",
       "      <th>28</th>\n",
       "      <td>134900.0</td>\n",
       "      <td>4.0</td>\n",
       "      <td>2.0</td>\n",
       "      <td>0.29</td>\n",
       "      <td>Newton</td>\n",
       "      <td>Texas</td>\n",
       "      <td>75966</td>\n",
       "      <td>2010.0</td>\n",
       "    </tr>\n",
       "  </tbody>\n",
       "</table>\n",
       "</div>"
      ],
      "text/plain": [
       "       price  bed  bath  acre_lot        city  state  zip_code  house_size\n",
       "18  349000.0  6.0   5.0      4.41      Newton  Texas     75966      5888.0\n",
       "19  249500.0  2.0   2.0      1.19    Hemphill  Texas     75948      1872.0\n",
       "23  479000.0  5.0   4.0      6.28      Newton  Texas     75966      4248.0\n",
       "27  179900.0  3.0   2.0      2.23  Burkeville  Texas     75932      1240.0\n",
       "28  134900.0  4.0   2.0      0.29      Newton  Texas     75966      2010.0"
      ]
     },
     "execution_count": 156,
     "metadata": {},
     "output_type": "execute_result"
    }
   ],
   "source": [
    "reduce_column_df=process_data_df.drop(columns=['brokered_by','status','street','prev_sold_date'])\n",
    "\n",
    "reduce_column_df.head()"
   ]
  },
  {
   "cell_type": "code",
   "execution_count": 157,
   "metadata": {},
   "outputs": [
    {
     "data": {
      "text/html": [
       "<div>\n",
       "<style scoped>\n",
       "    .dataframe tbody tr th:only-of-type {\n",
       "        vertical-align: middle;\n",
       "    }\n",
       "\n",
       "    .dataframe tbody tr th {\n",
       "        vertical-align: top;\n",
       "    }\n",
       "\n",
       "    .dataframe thead th {\n",
       "        text-align: right;\n",
       "    }\n",
       "</style>\n",
       "<table border=\"1\" class=\"dataframe\">\n",
       "  <thead>\n",
       "    <tr style=\"text-align: right;\">\n",
       "      <th></th>\n",
       "      <th>price</th>\n",
       "      <th>bed</th>\n",
       "      <th>bath</th>\n",
       "      <th>acre_lot</th>\n",
       "      <th>city</th>\n",
       "      <th>state</th>\n",
       "      <th>zip_code</th>\n",
       "      <th>house_size</th>\n",
       "      <th>prev_sold_date</th>\n",
       "      <th>house_age_since_sold</th>\n",
       "      <th>price_per_sqft</th>\n",
       "      <th>average_house_value_per_zipcode</th>\n",
       "    </tr>\n",
       "  </thead>\n",
       "  <tbody>\n",
       "    <tr>\n",
       "      <th>0</th>\n",
       "      <td>693</td>\n",
       "      <td>1.000000</td>\n",
       "      <td>1.000000</td>\n",
       "      <td>5.0</td>\n",
       "      <td>637</td>\n",
       "      <td>0</td>\n",
       "      <td>753</td>\n",
       "      <td>600.000000</td>\n",
       "      <td>3203</td>\n",
       "      <td>3771</td>\n",
       "      <td>165</td>\n",
       "      <td>126</td>\n",
       "    </tr>\n",
       "    <tr>\n",
       "      <th>1</th>\n",
       "      <td>372</td>\n",
       "      <td>3.476931</td>\n",
       "      <td>2.678548</td>\n",
       "      <td>1.0</td>\n",
       "      <td>485</td>\n",
       "      <td>0</td>\n",
       "      <td>682</td>\n",
       "      <td>2314.157354</td>\n",
       "      <td>3203</td>\n",
       "      <td>3771</td>\n",
       "      <td>25</td>\n",
       "      <td>153</td>\n",
       "    </tr>\n",
       "    <tr>\n",
       "      <th>2</th>\n",
       "      <td>372</td>\n",
       "      <td>3.476931</td>\n",
       "      <td>2.678548</td>\n",
       "      <td>1.0</td>\n",
       "      <td>485</td>\n",
       "      <td>0</td>\n",
       "      <td>682</td>\n",
       "      <td>2314.157354</td>\n",
       "      <td>3203</td>\n",
       "      <td>3771</td>\n",
       "      <td>25</td>\n",
       "      <td>153</td>\n",
       "    </tr>\n",
       "    <tr>\n",
       "      <th>3</th>\n",
       "      <td>372</td>\n",
       "      <td>3.476931</td>\n",
       "      <td>2.678548</td>\n",
       "      <td>1.0</td>\n",
       "      <td>485</td>\n",
       "      <td>0</td>\n",
       "      <td>682</td>\n",
       "      <td>2314.157354</td>\n",
       "      <td>3203</td>\n",
       "      <td>3771</td>\n",
       "      <td>25</td>\n",
       "      <td>153</td>\n",
       "    </tr>\n",
       "    <tr>\n",
       "      <th>4</th>\n",
       "      <td>372</td>\n",
       "      <td>3.476931</td>\n",
       "      <td>2.678548</td>\n",
       "      <td>1.0</td>\n",
       "      <td>485</td>\n",
       "      <td>0</td>\n",
       "      <td>682</td>\n",
       "      <td>2314.157354</td>\n",
       "      <td>3203</td>\n",
       "      <td>3771</td>\n",
       "      <td>25</td>\n",
       "      <td>153</td>\n",
       "    </tr>\n",
       "  </tbody>\n",
       "</table>\n",
       "</div>"
      ],
      "text/plain": [
       "   price       bed      bath  acre_lot  city  state  zip_code   house_size  \\\n",
       "0    693  1.000000  1.000000       5.0   637      0       753   600.000000   \n",
       "1    372  3.476931  2.678548       1.0   485      0       682  2314.157354   \n",
       "2    372  3.476931  2.678548       1.0   485      0       682  2314.157354   \n",
       "3    372  3.476931  2.678548       1.0   485      0       682  2314.157354   \n",
       "4    372  3.476931  2.678548       1.0   485      0       682  2314.157354   \n",
       "\n",
       "   prev_sold_date  house_age_since_sold  price_per_sqft  \\\n",
       "0            3203                  3771             165   \n",
       "1            3203                  3771              25   \n",
       "2            3203                  3771              25   \n",
       "3            3203                  3771              25   \n",
       "4            3203                  3771              25   \n",
       "\n",
       "   average_house_value_per_zipcode  \n",
       "0                              126  \n",
       "1                              153  \n",
       "2                              153  \n",
       "3                              153  \n",
       "4                              153  "
      ]
     },
     "execution_count": 157,
     "metadata": {},
     "output_type": "execute_result"
    }
   ],
   "source": [
    "# Identify categorical columns\n",
    "categorical_columns = ['price','city', 'state', 'zip_code']\n",
    "\n",
    "# Initialize LabelEncoder\n",
    "label_encoder = LabelEncoder()\n",
    "\n",
    "# Apply LabelEncoder to each categorical column\n",
    "for column in categorical_columns:\n",
    "    transform2_data_df[column] = label_encoder.fit_transform(transform2_data_df[column])\n",
    "\n",
    "transform2_data_df.head()"
   ]
  },
  {
   "cell_type": "code",
   "execution_count": 159,
   "metadata": {},
   "outputs": [
    {
     "name": "stdout",
     "output_type": "stream",
     "text": [
      "X_train shape: (35919, 11)\n",
      "X_test shape: (3992, 11)\n",
      "y_train shape: (35919,)\n",
      "y_test shape: (3992,)\n"
     ]
    }
   ],
   "source": [
    "# Set up X and Y variables\n",
    "\n",
    "X = transform2_data_df.drop(columns=['price'])  # Features (all columns except 'price')\n",
    "y = transform2_data_df['price']  # Target variable (price)\n",
    "\n",
    "# Split the data into training and testing sets with 10% testing data\n",
    "X_train, X_test, y_train, y_test = train_test_split(X, y,test_size=0.10, random_state=42)\n",
    "\n",
    "# Display the shape of the resulting datasets\n",
    "print(\"X_train shape:\", X_train.shape)\n",
    "print(\"X_test shape:\", X_test.shape)\n",
    "print(\"y_train shape:\", y_train.shape)\n",
    "print(\"y_test shape:\", y_test.shape)\n"
   ]
  },
  {
   "cell_type": "code",
   "execution_count": null,
   "metadata": {},
   "outputs": [],
   "source": []
  },
  {
   "cell_type": "code",
   "execution_count": 164,
   "metadata": {},
   "outputs": [
    {
     "data": {
      "text/plain": [
       "array([[ 4.63681441e-01, -6.80034019e-01, -1.04750937e-01, ...,\n",
       "         1.27809845e+00, -2.00074723e-01,  6.71193420e-01],\n",
       "       [-4.18822084e-01, -6.80034019e-01, -1.12114676e-01, ...,\n",
       "         2.56030517e+00,  1.70584021e-01,  6.50703803e-01],\n",
       "       [-4.18822084e-01, -6.80034019e-01, -1.12703775e-01, ...,\n",
       "         2.34676641e-03, -3.46020691e-02,  5.99479758e-01],\n",
       "       ...,\n",
       "       [ 4.63681441e-01, -6.80034019e-01, -1.12212859e-01, ...,\n",
       "        -1.39898489e+00, -6.76965998e-02,  5.63622927e-01],\n",
       "       [-4.18822084e-01, -6.80034019e-01, -3.80409873e-04, ...,\n",
       "        -1.71117435e+00,  5.47861671e-01, -1.77731590e+00],\n",
       "       [ 4.63681441e-01,  1.32935174e+00, -1.12016493e-01, ...,\n",
       "         2.34676641e-03, -3.46020691e-02,  3.63849154e-01]])"
      ]
     },
     "execution_count": 164,
     "metadata": {},
     "output_type": "execute_result"
    }
   ],
   "source": [
    "scaler = StandardScaler()\n",
    "X_train_scaled = scaler.fit_transform(X_train)\n",
    "X_test_scaled = scaler.transform(X_test)\n",
    "\n",
    "X_train_scaled"
   ]
  },
  {
   "cell_type": "code",
   "execution_count": 165,
   "metadata": {},
   "outputs": [
    {
     "data": {
      "text/html": [
       "<style>#sk-container-id-12 {color: black;background-color: white;}#sk-container-id-12 pre{padding: 0;}#sk-container-id-12 div.sk-toggleable {background-color: white;}#sk-container-id-12 label.sk-toggleable__label {cursor: pointer;display: block;width: 100%;margin-bottom: 0;padding: 0.3em;box-sizing: border-box;text-align: center;}#sk-container-id-12 label.sk-toggleable__label-arrow:before {content: \"▸\";float: left;margin-right: 0.25em;color: #696969;}#sk-container-id-12 label.sk-toggleable__label-arrow:hover:before {color: black;}#sk-container-id-12 div.sk-estimator:hover label.sk-toggleable__label-arrow:before {color: black;}#sk-container-id-12 div.sk-toggleable__content {max-height: 0;max-width: 0;overflow: hidden;text-align: left;background-color: #f0f8ff;}#sk-container-id-12 div.sk-toggleable__content pre {margin: 0.2em;color: black;border-radius: 0.25em;background-color: #f0f8ff;}#sk-container-id-12 input.sk-toggleable__control:checked~div.sk-toggleable__content {max-height: 200px;max-width: 100%;overflow: auto;}#sk-container-id-12 input.sk-toggleable__control:checked~label.sk-toggleable__label-arrow:before {content: \"▾\";}#sk-container-id-12 div.sk-estimator input.sk-toggleable__control:checked~label.sk-toggleable__label {background-color: #d4ebff;}#sk-container-id-12 div.sk-label input.sk-toggleable__control:checked~label.sk-toggleable__label {background-color: #d4ebff;}#sk-container-id-12 input.sk-hidden--visually {border: 0;clip: rect(1px 1px 1px 1px);clip: rect(1px, 1px, 1px, 1px);height: 1px;margin: -1px;overflow: hidden;padding: 0;position: absolute;width: 1px;}#sk-container-id-12 div.sk-estimator {font-family: monospace;background-color: #f0f8ff;border: 1px dotted black;border-radius: 0.25em;box-sizing: border-box;margin-bottom: 0.5em;}#sk-container-id-12 div.sk-estimator:hover {background-color: #d4ebff;}#sk-container-id-12 div.sk-parallel-item::after {content: \"\";width: 100%;border-bottom: 1px solid gray;flex-grow: 1;}#sk-container-id-12 div.sk-label:hover label.sk-toggleable__label {background-color: #d4ebff;}#sk-container-id-12 div.sk-serial::before {content: \"\";position: absolute;border-left: 1px solid gray;box-sizing: border-box;top: 0;bottom: 0;left: 50%;z-index: 0;}#sk-container-id-12 div.sk-serial {display: flex;flex-direction: column;align-items: center;background-color: white;padding-right: 0.2em;padding-left: 0.2em;position: relative;}#sk-container-id-12 div.sk-item {position: relative;z-index: 1;}#sk-container-id-12 div.sk-parallel {display: flex;align-items: stretch;justify-content: center;background-color: white;position: relative;}#sk-container-id-12 div.sk-item::before, #sk-container-id-12 div.sk-parallel-item::before {content: \"\";position: absolute;border-left: 1px solid gray;box-sizing: border-box;top: 0;bottom: 0;left: 50%;z-index: -1;}#sk-container-id-12 div.sk-parallel-item {display: flex;flex-direction: column;z-index: 1;position: relative;background-color: white;}#sk-container-id-12 div.sk-parallel-item:first-child::after {align-self: flex-end;width: 50%;}#sk-container-id-12 div.sk-parallel-item:last-child::after {align-self: flex-start;width: 50%;}#sk-container-id-12 div.sk-parallel-item:only-child::after {width: 0;}#sk-container-id-12 div.sk-dashed-wrapped {border: 1px dashed gray;margin: 0 0.4em 0.5em 0.4em;box-sizing: border-box;padding-bottom: 0.4em;background-color: white;}#sk-container-id-12 div.sk-label label {font-family: monospace;font-weight: bold;display: inline-block;line-height: 1.2em;}#sk-container-id-12 div.sk-label-container {text-align: center;}#sk-container-id-12 div.sk-container {/* jupyter's `normalize.less` sets `[hidden] { display: none; }` but bootstrap.min.css set `[hidden] { display: none !important; }` so we also need the `!important` here to be able to override the default hidden behavior on the sphinx rendered scikit-learn.org. See: https://github.com/scikit-learn/scikit-learn/issues/21755 */display: inline-block !important;position: relative;}#sk-container-id-12 div.sk-text-repr-fallback {display: none;}</style><div id=\"sk-container-id-12\" class=\"sk-top-container\"><div class=\"sk-text-repr-fallback\"><pre>LinearRegression()</pre><b>In a Jupyter environment, please rerun this cell to show the HTML representation or trust the notebook. <br />On GitHub, the HTML representation is unable to render, please try loading this page with nbviewer.org.</b></div><div class=\"sk-container\" hidden><div class=\"sk-item\"><div class=\"sk-estimator sk-toggleable\"><input class=\"sk-toggleable__control sk-hidden--visually\" id=\"sk-estimator-id-12\" type=\"checkbox\" checked><label for=\"sk-estimator-id-12\" class=\"sk-toggleable__label sk-toggleable__label-arrow\">LinearRegression</label><div class=\"sk-toggleable__content\"><pre>LinearRegression()</pre></div></div></div></div></div>"
      ],
      "text/plain": [
       "LinearRegression()"
      ]
     },
     "execution_count": 165,
     "metadata": {},
     "output_type": "execute_result"
    }
   ],
   "source": [
    "# Instantiate the model\n",
    "model = LinearRegression()\n",
    "\n",
    "# Fit the model to the training data\n",
    "model.fit(X_train, y_train)"
   ]
  },
  {
   "cell_type": "code",
   "execution_count": 166,
   "metadata": {},
   "outputs": [],
   "source": [
    "# Make predictions on the testing set\n",
    "y_pred = model.predict(X_test)"
   ]
  },
  {
   "cell_type": "code",
   "execution_count": 167,
   "metadata": {},
   "outputs": [
    {
     "name": "stdout",
     "output_type": "stream",
     "text": [
      "MAE: 1491.9793261173284\n",
      "MSE: 3639839.484433461\n",
      "R-squared: 0.31154897709090157\n"
     ]
    }
   ],
   "source": [
    "# Make predictions on the test data\n",
    "y_pred = model.predict(X_test)\n",
    "\n",
    "# Evaluate the model (compare y_test with y_pred, not y_train)\n",
    "mae = mean_absolute_error(y_test, y_pred)\n",
    "mse = mean_squared_error(y_test, y_pred)\n",
    "r2 = r2_score(y_test, y_pred)\n",
    "\n",
    "print(f\"MAE: {mae}\")\n",
    "print(f\"MSE: {mse}\")\n",
    "print(f\"R-squared: {r2}\")"
   ]
  },
  {
   "cell_type": "code",
   "execution_count": 168,
   "metadata": {},
   "outputs": [
    {
     "data": {
      "image/png": "[encoded data removed]",
      "text/plain": [
       "<Figure size 640x480 with 1 Axes>"
      ]
     },
     "metadata": {},
     "output_type": "display_data"
    }
   ],
   "source": [
    "# Plot predicted vs actual\n",
    "plt.scatter(y_test, y_pred, alpha=0.5)\n",
    "plt.plot([y_test.min(), y_test.max()], [y_test.min(), y_test.max()], 'r--', lw=2)\n",
    "plt.xlabel(\"Actual Values\")\n",
    "plt.ylabel(\"Predicted Values\")\n",
    "plt.title(\"Actual vs Predicted\")\n",
    "plt.show()"
   ]
  },
  {
   "cell_type": "markdown",
   "metadata": {},
   "source": [
    "# Natalie"
   ]
  },
  {
   "cell_type": "markdown",
   "metadata": {},
   "source": []
  },
  {
   "cell_type": "code",
   "execution_count": null,
   "metadata": {},
   "outputs": [],
   "source": []
  },
  {
   "cell_type": "markdown",
   "metadata": {},
   "source": [
    "# Russel"
   ]
  },
  {
   "cell_type": "code",
   "execution_count": null,
   "metadata": {},
   "outputs": [],
   "source": []
  },
  {
   "cell_type": "markdown",
   "metadata": {},
   "source": [
    "# Michael"
   ]
  },
  {
   "cell_type": "code",
   "execution_count": null,
   "metadata": {},
   "outputs": [],
   "source": []
  },
  {
   "cell_type": "markdown",
   "metadata": {},
   "source": [
    "# Lerma"
   ]
  },
  {
   "cell_type": "code",
   "execution_count": null,
   "metadata": {},
   "outputs": [],
   "source": []
  }
 ],
 "metadata": {
  "kernelspec": {
   "display_name": "base",
   "language": "python",
   "name": "python3"
  },
  "language_info": {
   "codemirror_mode": {
    "name": "ipython",
    "version": 3
   },
   "file_extension": ".py",
   "mimetype": "text/x-python",
   "name": "python",
   "nbconvert_exporter": "python",
   "pygments_lexer": "ipython3",
   "version": "3.11.7"
  }
 },
 "nbformat": 4,
 "nbformat_minor": 2
}
